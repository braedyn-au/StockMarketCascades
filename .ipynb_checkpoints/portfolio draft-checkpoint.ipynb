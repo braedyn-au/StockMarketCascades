{
 "cells": [
  {
   "cell_type": "code",
   "execution_count": 286,
   "metadata": {},
   "outputs": [],
   "source": [
    "import numpy as np\n",
    "from scipy.optimize import minimize\n",
    "import pandas as pd"
   ]
  },
  {
   "cell_type": "code",
   "execution_count": 216,
   "metadata": {},
   "outputs": [],
   "source": [
    "#stockPool is a huge array, good memory??\n",
    "\n",
    "stockPool = np.random.random((100,8192))"
   ]
  },
  {
   "cell_type": "code",
   "execution_count": 527,
   "metadata": {},
   "outputs": [],
   "source": [
    "class portfolio:\n",
    "    \n",
    "    def __init__(self,name,size):\n",
    "        self.stocks = np.random.choice(np.arange(20), size=size, replace=False)\n",
    "        self.weights = dict.fromkeys(self.stocks,0) #init with a sharpe function, put in dictionary for easy change\n",
    "        self.orders = np.zeros(size)\n",
    "        self.portfID = str(name)\n",
    "    \n",
    "    def order(self):\n",
    "        \"\"\"\n",
    "        returns the orders to be added to the broker dataframe\n",
    "        \"\"\"\n",
    "        \n",
    "        orderList = pd.DataFrame({\"portfolio\":self.portfID,\"stock\":self.stocks, \"order\": self.orders})\n",
    "        \n",
    "        return orderList\n",
    "        "
   ]
  },
  {
   "cell_type": "code",
   "execution_count": 219,
   "metadata": {},
   "outputs": [],
   "source": [
    "def sharpe(weights,stocks, time):\n",
    "    \"\"\"\n",
    "    Input the stock ID numbers and calculate the sharpe ratio based on time\n",
    "    \"\"\"\n",
    "    Rp = 0\n",
    "    Rf = 0.001\n",
    "    var = 0\n",
    "    for i,j in enumerate(stocks): \n",
    "        Rp += weights[i]*np.mean(stockPool[j][:time]) #expected return up to point in time\n",
    "        var += weights[i]*weights[i]*np.var(stockPool[j][:time]) #variance return up to point in time\n",
    "    stdp = np.sqrt(var)\n",
    "    \n",
    "    return -(Rp-Rf)/stdp\n",
    "    \n",
    "    "
   ]
  },
  {
   "cell_type": "code",
   "execution_count": 224,
   "metadata": {},
   "outputs": [],
   "source": [
    "#opt= minimize(sharpe, a.weights, args=(a.stocks,6), method='Nelder-Mead', tol=1e-6)['x'] \n",
    "# minimize from steady state based on fBM"
   ]
  },
  {
   "cell_type": "code",
   "execution_count": 528,
   "metadata": {},
   "outputs": [],
   "source": [
    "# to generate overlapping portfolios, scan through the stock list with various overlapping amounts. \n",
    "# for trades, generate an order book for each portfolio with the stocks they want to buy or sell, these are\n",
    "# then matched to the closest order from another portfolio, a trade is agreed upon once the sum of their \n",
    "# sharpe ratios are maxamized by this trade\n",
    "\n",
    "# INITIALIZE PORTFOLIO FUNCTION\n",
    "a = portfolio('a',10)\n",
    "aopt = [-3,-2,-1,-2,-5,-1,-1,-1,-1,-3] \n",
    "a.orders = np.asarray(aopt) - list(a.weights.values())\n",
    "alist = a.order()\n",
    "\n",
    "b = portfolio(\"b\",8)\n",
    "bopt = [3,4,5,6,7,8,2,0]\n",
    "b.orders = np.asarray(bopt) - list(b.weights.values())\n",
    "blist = b.order()\n",
    "\n",
    "\n",
    "c = portfolio(\"c\",8)\n",
    "copt = [3,4,5,6,7,8,2,0]\n",
    "c.orders = np.asarray(copt) - list(c.weights.values())\n",
    "clist = c.order()\n",
    "\n",
    "\n",
    "d = portfolio(\"d\",8)\n",
    "dopt = [-3,-4,-5,6,-7,8,2,-2]\n",
    "d.orders = np.asarray(dopt) - list(d.weights.values())\n",
    "dlist = d.order()"
   ]
  },
  {
   "cell_type": "code",
   "execution_count": 529,
   "metadata": {},
   "outputs": [],
   "source": [
    "broker = pd.concat([alist,blist,clist,dlist])\n",
    "broker = broker[broker.order!=0] # remove all null orders\n",
    "potMatch = broker[broker.groupby('stock').stock.transform(len) > 1] # removes all single orders"
   ]
  },
  {
   "cell_type": "code",
   "execution_count": 531,
   "metadata": {},
   "outputs": [
    {
     "data": {
      "text/html": [
       "<div>\n",
       "<style scoped>\n",
       "    .dataframe tbody tr th:only-of-type {\n",
       "        vertical-align: middle;\n",
       "    }\n",
       "\n",
       "    .dataframe tbody tr th {\n",
       "        vertical-align: top;\n",
       "    }\n",
       "\n",
       "    .dataframe thead th {\n",
       "        text-align: right;\n",
       "    }\n",
       "</style>\n",
       "<table border=\"1\" class=\"dataframe\">\n",
       "  <thead>\n",
       "    <tr style=\"text-align: right;\">\n",
       "      <th></th>\n",
       "      <th>portfolio</th>\n",
       "      <th>stock</th>\n",
       "      <th>order</th>\n",
       "    </tr>\n",
       "  </thead>\n",
       "  <tbody>\n",
       "    <tr>\n",
       "      <th>0</th>\n",
       "      <td>a</td>\n",
       "      <td>18</td>\n",
       "      <td>-3</td>\n",
       "    </tr>\n",
       "    <tr>\n",
       "      <th>2</th>\n",
       "      <td>a</td>\n",
       "      <td>19</td>\n",
       "      <td>-1</td>\n",
       "    </tr>\n",
       "    <tr>\n",
       "      <th>4</th>\n",
       "      <td>a</td>\n",
       "      <td>7</td>\n",
       "      <td>-5</td>\n",
       "    </tr>\n",
       "    <tr>\n",
       "      <th>5</th>\n",
       "      <td>a</td>\n",
       "      <td>0</td>\n",
       "      <td>-1</td>\n",
       "    </tr>\n",
       "    <tr>\n",
       "      <th>6</th>\n",
       "      <td>a</td>\n",
       "      <td>6</td>\n",
       "      <td>-1</td>\n",
       "    </tr>\n",
       "    <tr>\n",
       "      <th>7</th>\n",
       "      <td>a</td>\n",
       "      <td>11</td>\n",
       "      <td>-1</td>\n",
       "    </tr>\n",
       "    <tr>\n",
       "      <th>8</th>\n",
       "      <td>a</td>\n",
       "      <td>2</td>\n",
       "      <td>-1</td>\n",
       "    </tr>\n",
       "    <tr>\n",
       "      <th>0</th>\n",
       "      <td>b</td>\n",
       "      <td>6</td>\n",
       "      <td>3</td>\n",
       "    </tr>\n",
       "    <tr>\n",
       "      <th>1</th>\n",
       "      <td>b</td>\n",
       "      <td>3</td>\n",
       "      <td>4</td>\n",
       "    </tr>\n",
       "    <tr>\n",
       "      <th>2</th>\n",
       "      <td>b</td>\n",
       "      <td>18</td>\n",
       "      <td>5</td>\n",
       "    </tr>\n",
       "    <tr>\n",
       "      <th>5</th>\n",
       "      <td>b</td>\n",
       "      <td>7</td>\n",
       "      <td>8</td>\n",
       "    </tr>\n",
       "    <tr>\n",
       "      <th>0</th>\n",
       "      <td>c</td>\n",
       "      <td>11</td>\n",
       "      <td>3</td>\n",
       "    </tr>\n",
       "    <tr>\n",
       "      <th>1</th>\n",
       "      <td>c</td>\n",
       "      <td>15</td>\n",
       "      <td>4</td>\n",
       "    </tr>\n",
       "    <tr>\n",
       "      <th>2</th>\n",
       "      <td>c</td>\n",
       "      <td>0</td>\n",
       "      <td>5</td>\n",
       "    </tr>\n",
       "    <tr>\n",
       "      <th>3</th>\n",
       "      <td>c</td>\n",
       "      <td>18</td>\n",
       "      <td>6</td>\n",
       "    </tr>\n",
       "    <tr>\n",
       "      <th>4</th>\n",
       "      <td>c</td>\n",
       "      <td>2</td>\n",
       "      <td>7</td>\n",
       "    </tr>\n",
       "    <tr>\n",
       "      <th>5</th>\n",
       "      <td>c</td>\n",
       "      <td>3</td>\n",
       "      <td>8</td>\n",
       "    </tr>\n",
       "    <tr>\n",
       "      <th>0</th>\n",
       "      <td>d</td>\n",
       "      <td>6</td>\n",
       "      <td>-3</td>\n",
       "    </tr>\n",
       "    <tr>\n",
       "      <th>1</th>\n",
       "      <td>d</td>\n",
       "      <td>11</td>\n",
       "      <td>-4</td>\n",
       "    </tr>\n",
       "    <tr>\n",
       "      <th>2</th>\n",
       "      <td>d</td>\n",
       "      <td>7</td>\n",
       "      <td>-5</td>\n",
       "    </tr>\n",
       "    <tr>\n",
       "      <th>3</th>\n",
       "      <td>d</td>\n",
       "      <td>18</td>\n",
       "      <td>6</td>\n",
       "    </tr>\n",
       "    <tr>\n",
       "      <th>4</th>\n",
       "      <td>d</td>\n",
       "      <td>0</td>\n",
       "      <td>-7</td>\n",
       "    </tr>\n",
       "    <tr>\n",
       "      <th>5</th>\n",
       "      <td>d</td>\n",
       "      <td>19</td>\n",
       "      <td>8</td>\n",
       "    </tr>\n",
       "    <tr>\n",
       "      <th>6</th>\n",
       "      <td>d</td>\n",
       "      <td>3</td>\n",
       "      <td>2</td>\n",
       "    </tr>\n",
       "    <tr>\n",
       "      <th>7</th>\n",
       "      <td>d</td>\n",
       "      <td>15</td>\n",
       "      <td>-2</td>\n",
       "    </tr>\n",
       "  </tbody>\n",
       "</table>\n",
       "</div>"
      ],
      "text/plain": [
       "  portfolio  stock  order\n",
       "0         a     18     -3\n",
       "2         a     19     -1\n",
       "4         a      7     -5\n",
       "5         a      0     -1\n",
       "6         a      6     -1\n",
       "7         a     11     -1\n",
       "8         a      2     -1\n",
       "0         b      6      3\n",
       "1         b      3      4\n",
       "2         b     18      5\n",
       "5         b      7      8\n",
       "0         c     11      3\n",
       "1         c     15      4\n",
       "2         c      0      5\n",
       "3         c     18      6\n",
       "4         c      2      7\n",
       "5         c      3      8\n",
       "0         d      6     -3\n",
       "1         d     11     -4\n",
       "2         d      7     -5\n",
       "3         d     18      6\n",
       "4         d      0     -7\n",
       "5         d     19      8\n",
       "6         d      3      2\n",
       "7         d     15     -2"
      ]
     },
     "execution_count": 531,
     "metadata": {},
     "output_type": "execute_result"
    }
   ],
   "source": [
    "potMatch"
   ]
  },
  {
   "cell_type": "code",
   "execution_count": 608,
   "metadata": {},
   "outputs": [
    {
     "name": "stdout",
     "output_type": "stream",
     "text": [
      "sale made\n",
      "No match\n"
     ]
    }
   ],
   "source": [
    "orderList = pd.DataFrame()\n",
    "\n",
    "for stock in (potMatch.stock.unique()): \n",
    "    # go through each stock and try to fill orders\n",
    "    stockSearch = (potMatch[potMatch.stock == stock])\n",
    "    buy = stockSearch[stockSearch.order > 0]\n",
    "    sell = stockSearch[stockSearch.order < 0]\n",
    "    if len(buy) == 0 or len(sell) == 0:\n",
    "        print(\"No match\")\n",
    "        continue\n",
    "    buy = buy.sort_values(by=\"order\",ascending=False)\n",
    "    sell = sell.sort_values(by=\"order\",ascending=True)\n",
    "    buy.reset_index(inplace=True,drop=True)\n",
    "    sell.reset_index(inplace=True,drop=True)\n",
    "    #print(\"BUY\")\n",
    "    #print(buy)\n",
    "    #print(\"SELL\")\n",
    "    #print(sell)\n",
    "\n",
    "    while len(buy) != 0 and len(sell) != 0:\n",
    "        # iterate until no more matches\n",
    "        for sID in range(len(sell)):\n",
    "            s = sell.iloc[sID].order #selling amount\n",
    "            if -s in buy.order.values:\n",
    "                # see if there is a matching order to easily fill right away\n",
    "                bMatch = buy[buy.order.isin([-s])].iloc[0]\n",
    "\n",
    "                sale = pd.DataFrame({\"stock\":stock, \"seller\": sell.iloc[sID].portfolio, \n",
    "                                     \"buyer\": bMatch.portfolio, \"volume\": -s, \"tradeID\": 123},index=['t'])\n",
    "\n",
    "                orderList = pd.concat([orderList,sale])\n",
    "\n",
    "                print(\"sale made\")\n",
    "\n",
    "            else:\n",
    "                # algorithm that matches s with a b and updates sell and buy rows, take min and subtract until 0\n",
    "                \n",
    "            buy = buy[buy.order!=0]\n",
    "            sell = sell[sell.order!=0]\n",
    "\n",
    "                "
   ]
  },
  {
   "cell_type": "code",
   "execution_count": 609,
   "metadata": {},
   "outputs": [
    {
     "data": {
      "text/plain": [
       "stock        6\n",
       "seller       d\n",
       "buyer        b\n",
       "volume       3\n",
       "tradeID    123\n",
       "Name: t (fill in), dtype: object"
      ]
     },
     "execution_count": 609,
     "metadata": {},
     "output_type": "execute_result"
    }
   ],
   "source": [
    "orderList.loc['t (fill in)']"
   ]
  },
  {
   "cell_type": "code",
   "execution_count": 571,
   "metadata": {},
   "outputs": [
    {
     "ename": "AttributeError",
     "evalue": "'DataFrame' object has no attribute 'concat'",
     "output_type": "error",
     "traceback": [
      "\u001b[0;31m---------------------------------------------------------------------------\u001b[0m",
      "\u001b[0;31mAttributeError\u001b[0m                            Traceback (most recent call last)",
      "\u001b[0;32m<ipython-input-571-0d52f3e60398>\u001b[0m in \u001b[0;36m<module>\u001b[0;34m\u001b[0m\n\u001b[0;32m----> 1\u001b[0;31m \u001b[0morderList\u001b[0m\u001b[0;34m.\u001b[0m\u001b[0mconcat\u001b[0m\u001b[0;34m(\u001b[0m\u001b[0;34m{\u001b[0m\u001b[0;34m\"portfolio\"\u001b[0m\u001b[0;34m:\u001b[0m\u001b[0mself\u001b[0m\u001b[0;34m.\u001b[0m\u001b[0mportfID\u001b[0m\u001b[0;34m,\u001b[0m\u001b[0;34m\"stock\"\u001b[0m\u001b[0;34m:\u001b[0m\u001b[0mself\u001b[0m\u001b[0;34m.\u001b[0m\u001b[0mstocks\u001b[0m\u001b[0;34m,\u001b[0m \u001b[0;34m\"order\"\u001b[0m\u001b[0;34m:\u001b[0m \u001b[0mself\u001b[0m\u001b[0;34m.\u001b[0m\u001b[0morders\u001b[0m\u001b[0;34m}\u001b[0m\u001b[0;34m)\u001b[0m\u001b[0;34m\u001b[0m\u001b[0;34m\u001b[0m\u001b[0m\n\u001b[0m",
      "\u001b[0;32m~/anaconda3/lib/python3.7/site-packages/pandas/core/generic.py\u001b[0m in \u001b[0;36m__getattr__\u001b[0;34m(self, name)\u001b[0m\n\u001b[1;32m   5177\u001b[0m             \u001b[0;32mif\u001b[0m \u001b[0mself\u001b[0m\u001b[0;34m.\u001b[0m\u001b[0m_info_axis\u001b[0m\u001b[0;34m.\u001b[0m\u001b[0m_can_hold_identifiers_and_holds_name\u001b[0m\u001b[0;34m(\u001b[0m\u001b[0mname\u001b[0m\u001b[0;34m)\u001b[0m\u001b[0;34m:\u001b[0m\u001b[0;34m\u001b[0m\u001b[0;34m\u001b[0m\u001b[0m\n\u001b[1;32m   5178\u001b[0m                 \u001b[0;32mreturn\u001b[0m \u001b[0mself\u001b[0m\u001b[0;34m[\u001b[0m\u001b[0mname\u001b[0m\u001b[0;34m]\u001b[0m\u001b[0;34m\u001b[0m\u001b[0;34m\u001b[0m\u001b[0m\n\u001b[0;32m-> 5179\u001b[0;31m             \u001b[0;32mreturn\u001b[0m \u001b[0mobject\u001b[0m\u001b[0;34m.\u001b[0m\u001b[0m__getattribute__\u001b[0m\u001b[0;34m(\u001b[0m\u001b[0mself\u001b[0m\u001b[0;34m,\u001b[0m \u001b[0mname\u001b[0m\u001b[0;34m)\u001b[0m\u001b[0;34m\u001b[0m\u001b[0;34m\u001b[0m\u001b[0m\n\u001b[0m\u001b[1;32m   5180\u001b[0m \u001b[0;34m\u001b[0m\u001b[0m\n\u001b[1;32m   5181\u001b[0m     \u001b[0;32mdef\u001b[0m \u001b[0m__setattr__\u001b[0m\u001b[0;34m(\u001b[0m\u001b[0mself\u001b[0m\u001b[0;34m,\u001b[0m \u001b[0mname\u001b[0m\u001b[0;34m,\u001b[0m \u001b[0mvalue\u001b[0m\u001b[0;34m)\u001b[0m\u001b[0;34m:\u001b[0m\u001b[0;34m\u001b[0m\u001b[0;34m\u001b[0m\u001b[0m\n",
      "\u001b[0;31mAttributeError\u001b[0m: 'DataFrame' object has no attribute 'concat'"
     ]
    }
   ],
   "source": [
    "orderList.concat({\"portfolio\":self.portfID,\"stock\":self.stocks, \"order\": self.orders})"
   ]
  },
  {
   "cell_type": "code",
   "execution_count": 582,
   "metadata": {},
   "outputs": [
    {
     "data": {
      "text/plain": [
       "'a'"
      ]
     },
     "execution_count": 582,
     "metadata": {},
     "output_type": "execute_result"
    }
   ],
   "source": [
    "potMatch[potMatch.order.isin([-1])].iloc[0].portfolio"
   ]
  },
  {
   "cell_type": "code",
   "execution_count": 565,
   "metadata": {},
   "outputs": [
    {
     "data": {
      "text/plain": [
       "False"
      ]
     },
     "execution_count": 565,
     "metadata": {},
     "output_type": "execute_result"
    }
   ],
   "source": [
    "-8 in potMatch.order.values"
   ]
  },
  {
   "cell_type": "code",
   "execution_count": 562,
   "metadata": {},
   "outputs": [
    {
     "data": {
      "text/plain": [
       "array([-3, -1, -5, -1, -1, -1, -1,  3,  4,  5,  8,  3,  4,  5,  6,  7,  8,\n",
       "       -3, -4, -5,  6, -7,  8,  2, -2])"
      ]
     },
     "execution_count": 562,
     "metadata": {},
     "output_type": "execute_result"
    }
   ],
   "source": [
    "potMatch.order.values"
   ]
  },
  {
   "cell_type": "code",
   "execution_count": 566,
   "metadata": {},
   "outputs": [
    {
     "data": {
      "text/plain": [
       "25"
      ]
     },
     "execution_count": 566,
     "metadata": {},
     "output_type": "execute_result"
    }
   ],
   "source": [
    "len(potMatch)"
   ]
  },
  {
   "cell_type": "code",
   "execution_count": 570,
   "metadata": {},
   "outputs": [
    {
     "ename": "AttributeError",
     "evalue": "'str' object has no attribute 'order'",
     "output_type": "error",
     "traceback": [
      "\u001b[0;31m---------------------------------------------------------------------------\u001b[0m",
      "\u001b[0;31mAttributeError\u001b[0m                            Traceback (most recent call last)",
      "\u001b[0;32m<ipython-input-570-994068650302>\u001b[0m in \u001b[0;36m<module>\u001b[0;34m\u001b[0m\n\u001b[1;32m      1\u001b[0m \u001b[0;32mfor\u001b[0m \u001b[0mi\u001b[0m \u001b[0;32min\u001b[0m \u001b[0mpotMatch\u001b[0m\u001b[0;34m:\u001b[0m\u001b[0;34m\u001b[0m\u001b[0;34m\u001b[0m\u001b[0m\n\u001b[0;32m----> 2\u001b[0;31m     \u001b[0mprint\u001b[0m\u001b[0;34m(\u001b[0m\u001b[0mi\u001b[0m\u001b[0;34m.\u001b[0m\u001b[0morder\u001b[0m\u001b[0;34m)\u001b[0m\u001b[0;34m\u001b[0m\u001b[0;34m\u001b[0m\u001b[0m\n\u001b[0m",
      "\u001b[0;31mAttributeError\u001b[0m: 'str' object has no attribute 'order'"
     ]
    }
   ],
   "source": [
    "for i in potMatch:\n",
    "    print(i.order)"
   ]
  },
  {
   "cell_type": "code",
   "execution_count": null,
   "metadata": {},
   "outputs": [],
   "source": []
  }
 ],
 "metadata": {
  "kernelspec": {
   "display_name": "Python 3",
   "language": "python",
   "name": "python3"
  },
  "language_info": {
   "codemirror_mode": {
    "name": "ipython",
    "version": 3
   },
   "file_extension": ".py",
   "mimetype": "text/x-python",
   "name": "python",
   "nbconvert_exporter": "python",
   "pygments_lexer": "ipython3",
   "version": "3.7.3"
  }
 },
 "nbformat": 4,
 "nbformat_minor": 2
}
