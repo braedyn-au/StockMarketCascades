{
 "cells": [
  {
   "cell_type": "code",
   "execution_count": 1,
   "metadata": {},
   "outputs": [],
   "source": [
    "import numpy as np\n",
    "from scipy.optimize import minimize"
   ]
  },
  {
   "cell_type": "code",
   "execution_count": 2,
   "metadata": {},
   "outputs": [],
   "source": [
    "#stockPool is a huge array, good memory??\n",
    "\n",
    "stockPool = np.random.random((100,8192))"
   ]
  },
  {
   "cell_type": "code",
   "execution_count": 176,
   "metadata": {},
   "outputs": [],
   "source": [
    "class portfolio:\n",
    "    \n",
    "    def __init__(self,size):\n",
    "        self.stocks = np.random.choice(np.arange(100), size=size, replace=False)\n",
    "        self.weights = np.ones(size) #init with a sharpe function"
   ]
  },
  {
   "cell_type": "code",
   "execution_count": 177,
   "metadata": {},
   "outputs": [],
   "source": [
    "a = portfolio(5)"
   ]
  },
  {
   "cell_type": "code",
   "execution_count": 181,
   "metadata": {},
   "outputs": [],
   "source": [
    "def sharpe(weights,stocks, time):\n",
    "    \"\"\"\n",
    "    Input the stock ID numbers and calculate the sharpe ratio based on time\n",
    "    \"\"\"\n",
    "    Rp = 0\n",
    "    Rf = 0.001\n",
    "    var = 0\n",
    "    for i,j in enumerate(stocks): \n",
    "        Rp += weights[i]*np.mean(stockPool[j][:time])\n",
    "        var += weights[i]*weights[i]*np.var(stockPool[j][:time])\n",
    "    stdp = np.sqrt(var)\n",
    "    \n",
    "    return -(Rp-Rf)/stdp\n",
    "    \n",
    "    "
   ]
  },
  {
   "cell_type": "code",
   "execution_count": 195,
   "metadata": {},
   "outputs": [
    {
     "name": "stdout",
     "output_type": "stream",
     "text": [
      "2.493356394621357 0.647534506100596\n"
     ]
    }
   ],
   "source": [
    "Rp = 0\n",
    "Rf = 0.001\n",
    "var = 0\n",
    "for i,j in enumerate(a.stocks): \n",
    "    Rp += a.weights[i]*np.mean(stockPool[j][:8000])\n",
    "    var += a.weights[i]*a.weights[i]*np.var(stockPool[j][:8000])\n",
    "stdp = np.sqrt(var)\n",
    "\n",
    "print(Rp, stdp)"
   ]
  },
  {
   "cell_type": "code",
   "execution_count": 189,
   "metadata": {},
   "outputs": [
    {
     "data": {
      "text/plain": [
       " final_simplex: (array([[6.06401914e+10, 1.16862781e+11, 1.16097896e+11, 9.86976574e+10,\n",
       "        1.16796092e+11],\n",
       "       [4.11511766e+10, 7.93045046e+10, 7.87854467e+10, 6.69774308e+10,\n",
       "        7.92592489e+10],\n",
       "       [4.76256521e+10, 9.17818025e+10, 9.11810762e+10, 7.75152619e+10,\n",
       "        9.17294251e+10],\n",
       "       [4.52500589e+10, 8.72036713e+10, 8.66329101e+10, 7.36487567e+10,\n",
       "        8.71539050e+10],\n",
       "       [4.34248360e+10, 8.36861960e+10, 8.31384568e+10, 7.06780364e+10,\n",
       "        8.36384370e+10],\n",
       "       [3.31035381e+10, 6.37955030e+10, 6.33779522e+10, 5.38791426e+10,\n",
       "        6.37590989e+10]]), array([-5.04441796, -5.04441796, -5.04441796, -5.04441796, -5.04441796,\n",
       "       -5.04441796]))\n",
       "           fun: -5.04441795588356\n",
       "       message: 'Maximum number of function evaluations has been exceeded.'\n",
       "          nfev: 1001\n",
       "           nit: 649\n",
       "        status: 1\n",
       "       success: False\n",
       "             x: array([6.06401914e+10, 1.16862781e+11, 1.16097896e+11, 9.86976574e+10,\n",
       "       1.16796092e+11])"
      ]
     },
     "execution_count": 189,
     "metadata": {},
     "output_type": "execute_result"
    }
   ],
   "source": [
    "minimize(sharpe, a.weights, args=(a.stocks,6), method='Nelder-Mead', tol=1e-6)"
   ]
  },
  {
   "cell_type": "code",
   "execution_count": 187,
   "metadata": {},
   "outputs": [
    {
     "data": {
      "text/plain": [
       "(100, 8192)"
      ]
     },
     "execution_count": 187,
     "metadata": {},
     "output_type": "execute_result"
    }
   ],
   "source": [
    "np.shape(stockPool)"
   ]
  },
  {
   "cell_type": "code",
   "execution_count": null,
   "metadata": {},
   "outputs": [],
   "source": [
    "# to generate overlapping portfolios, scan through the stock list with various overlapping amounts. \n",
    "# for trades, generate an order book for each portfolio with the stocks they want to buy or sell, these are\n",
    "# then matched to the closest order from another portfolio, a trade is agreed upon once the sum of their \n",
    "# sharpe ratios are maxamized by this trade\n",
    "\n"
   ]
  }
 ],
 "metadata": {
  "kernelspec": {
   "display_name": "Python 3",
   "language": "python",
   "name": "python3"
  },
  "language_info": {
   "codemirror_mode": {
    "name": "ipython",
    "version": 3
   },
   "file_extension": ".py",
   "mimetype": "text/x-python",
   "name": "python",
   "nbconvert_exporter": "python",
   "pygments_lexer": "ipython3",
   "version": "3.7.3"
  }
 },
 "nbformat": 4,
 "nbformat_minor": 2
}
