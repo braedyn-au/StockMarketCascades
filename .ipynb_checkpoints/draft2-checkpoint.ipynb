{
 "cells": [
  {
   "cell_type": "code",
   "execution_count": 18,
   "metadata": {},
   "outputs": [],
   "source": [
    "import numpy as np\n",
    "from scipy.optimize import minimize\n",
    "import pandas as pd\n",
    "import random \n",
    "import string\n",
    "\n",
    "stockPool = np.loadtxt('./fbm/fbm20uni.txt')"
   ]
  },
  {
   "cell_type": "code",
   "execution_count": 81,
   "metadata": {},
   "outputs": [],
   "source": [
    "def sharpe(weights,stocks, ti, tf):\n",
    "    \"\"\"\n",
    "    Input the stock ID numbers and calculate the negative sharpe ratio based on time\n",
    "    \"\"\"\n",
    "    Rp = 0\n",
    "    Rf = 0.01\n",
    "    var = 0\n",
    "    for i,j in enumerate(stocks): \n",
    "        if int(weights[i]) == 0:\n",
    "            print(\"zero weights\")\n",
    "            pass\n",
    "        #Rp += weights[i]*np.mean(stockPool[j][ti:tf]) #expected return up to point in time\n",
    "        else:\n",
    "            Rp += 100*weights[i]*(stockPool[j][tf]-stockPool[j][ti])/stockPool[j][ti] # actual expected return based on historical data\n",
    "            var += weights[i]*weights[i]*np.var(stockPool[j][ti:tf]) #variance return up to point in time\n",
    "    stdp = np.sqrt(var)\n",
    "    \n",
    "    if stdp == 0:\n",
    "        print(\"dividebyzero\")\n",
    "    return -(Rp-Rf)/stdp"
   ]
  },
  {
   "cell_type": "code",
   "execution_count": 74,
   "metadata": {},
   "outputs": [],
   "source": [
    "class portfolio:\n",
    "    \n",
    "    def __init__(self,name,size,volume):\n",
    "        self.stocks = np.random.choice(np.arange(20), size=size, replace=False)\n",
    "        self.alloc = dict.fromkeys(self.stocks,1/size) #init with a sharpe function,\n",
    "        self.weights = dict.fromkeys(self.stocks,round(volume/size)) # put in dictionary for easy change\n",
    "        self.orders = np.zeros(size)\n",
    "        self.portfID = str(name)\n",
    "    \n",
    "    def optimize(self, t = 992,first=False):\n",
    "        \"\"\"\n",
    "        initialize weights based on datapoints before the 5 day week\n",
    "        \"\"\"\n",
    "        ti = t-900\n",
    "        opt= np.int_(minimize(sharpe, list(self.weights.values()), args=(self.stocks,ti,t), method='Nelder-Mead', tol=1e-6)['x'])\n",
    "        \n",
    "        if first:\n",
    "            for i,j in enumerate(self.stocks):\n",
    "                self.weights[j] = opt[i]\n",
    "            print(-sharpe(list(self.weights.values()),self.stocks,ti,t))\n",
    "        else:\n",
    "            return opt\n",
    "        \n",
    "    def order(self, time):\n",
    "        \"\"\"\n",
    "        calls optimize to find opt weights\n",
    "        returns the orders to be added to the broker dataframe\n",
    "        immediately adjusts weights for sold stocks\n",
    "        \"\"\"\n",
    "        opt = optimize(time)\n",
    "        \n",
    "        self.orders = np.asarray(opt) - list(self.weights.values())\n",
    "        orderList = pd.DataFrame({'time':time, \"portfolio\":self.portfID,\"stock\":self.stocks, \"order\": self.orders})\n",
    "        \n",
    "        # update weights that have been sent off\n",
    "        i = 0\n",
    "        for stock,weight in self.weights.items():\n",
    "            if self.orders[i]<0:\n",
    "                self.weights[stock] = weight + self.orders[i]\n",
    "            i+=1\n",
    "        return orderList\n",
    "    \n",
    "    def buy(self,stock,volume):\n",
    "        \"\"\"\n",
    "        adjust recently bought stocks\n",
    "        \"\"\"\n",
    "        \n",
    "        print(self.weights)\n",
    "        self.weights[stock] = self.weights[stock] + volume\n",
    "        print(self.weights)\n",
    "        "
   ]
  },
  {
   "cell_type": "code",
   "execution_count": 28,
   "metadata": {},
   "outputs": [],
   "source": [
    "def portfGen(n=5):\n",
    "    traderIDs = {}\n",
    "    \n",
    "    def randString(length = 5):\n",
    "        letters = string.ascii_lowercase\n",
    "        return ''.join(random.sample(letters,length))\n",
    "    \n",
    "    for i in range(n):\n",
    "        name = randString()\n",
    "        print(name)\n",
    "        while name in traderIDs:\n",
    "            name = randString()\n",
    "\n",
    "        traderIDs[name] = portfolio(name,np.random.randint(8,12))\n",
    "        traderIDs[name].optimize(first=True)\n",
    "        \n",
    "    return traderIDs\n",
    "    \n",
    "    "
   ]
  },
  {
   "cell_type": "code",
   "execution_count": 83,
   "metadata": {},
   "outputs": [
    {
     "name": "stdout",
     "output_type": "stream",
     "text": [
      "zero weights\n",
      "zero weights\n",
      "zero weights\n",
      "6.737628061314009\n",
      "{3: -4253057, 11: 373270, 5: -4247201, 8: 8336416, 19: 7166709, 1: -3482704, 16: -335644, 2: 3696758}\n"
     ]
    }
   ],
   "source": [
    "a = portfolio('a',8)\n",
    "a.optimize(first=True)\n",
    "print(a.weights)"
   ]
  },
  {
   "cell_type": "code",
   "execution_count": 78,
   "metadata": {},
   "outputs": [
    {
     "data": {
      "text/plain": [
       "{'aglxk': <__main__.portfolio at 0x10b032cc0>,\n",
       " 'soerv': <__main__.portfolio at 0x101dd92160>,\n",
       " 'jcouf': <__main__.portfolio at 0x10b032860>,\n",
       " 'osnzk': <__main__.portfolio at 0x10b032470>,\n",
       " 'ukaxy': <__main__.portfolio at 0x10b032208>}"
      ]
     },
     "execution_count": 78,
     "metadata": {},
     "output_type": "execute_result"
    }
   ],
   "source": [
    "traderIDs"
   ]
  },
  {
   "cell_type": "code",
   "execution_count": 71,
   "metadata": {},
   "outputs": [
    {
     "name": "stdout",
     "output_type": "stream",
     "text": [
      "0.05370220422659263\n"
     ]
    }
   ],
   "source": [
    "print(np.sqrt(np.var(stockPool[2][100:992])))"
   ]
  },
  {
   "cell_type": "code",
   "execution_count": null,
   "metadata": {},
   "outputs": [],
   "source": []
  }
 ],
 "metadata": {
  "kernelspec": {
   "display_name": "Python 3",
   "language": "python",
   "name": "python3"
  },
  "language_info": {
   "codemirror_mode": {
    "name": "ipython",
    "version": 3
   },
   "file_extension": ".py",
   "mimetype": "text/x-python",
   "name": "python",
   "nbconvert_exporter": "python",
   "pygments_lexer": "ipython3",
   "version": "3.7.3"
  }
 },
 "nbformat": 4,
 "nbformat_minor": 2
}
