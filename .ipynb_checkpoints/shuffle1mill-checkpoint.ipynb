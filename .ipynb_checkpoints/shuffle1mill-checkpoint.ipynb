{
 "cells": [
  {
   "cell_type": "code",
   "execution_count": 1,
   "metadata": {},
   "outputs": [],
   "source": [
    "import cudf as pd\n",
    "import numpy as np\n",
    "import numba\n",
    "import networkx as nx\n",
    "import pandas\n",
    "# import numpy "
   ]
  },
  {
   "cell_type": "code",
   "execution_count": 2,
   "metadata": {},
   "outputs": [],
   "source": [
    "# original sparse function with cuda\n",
    "def sparse():\n",
    "    mx = pd.read_csv(\"./1mil/1mil.csv\", sep=',',dtype=['int','int','int'])\n",
    "    print(\"Loaded\")\n",
    "    mx = mx.sort_values(by=['x'])\n",
    "    #xs = mx.x.unique()\n",
    "    #ys = mx.y.unique()\n",
    "\n",
    "    realNodes = np.sort(np.unique(np.concatenate((np.asarray(mx.x.unique()),np.asarray(mx.y.unique()))))) \n",
    "    nc = int(len(realNodes)) # get real Nodes\n",
    "    tc = int(2*len(mx)) # total connections 2x for undirected\n",
    "    print(nc,tc)\n",
    "    nnc = (np.zeros(nc+1)) # number of neuronal connections, size nc)\n",
    "    cindx = (np.zeros(nc+1)) # start connection index, size nc, FORTRAN indexing starts at 1\n",
    "    cons = np.array([])#np.int_(np.zeros(tc)) # connections, will be size tc)\n",
    "\n",
    "    for i in range(nc): #node 0 is real so remove the last element, not the first\n",
    "        print(\"new node at \", i)\n",
    "        daughters = np.concatenate((np.asarray(mx.loc[mx['x']==int(i)].y),np.asarray(mx.loc[mx['y']==int(i)].x))) #search x to y and y to x connections for undirected\n",
    "        nncount = len(daughters)\n",
    "        print(\"node \", i, \"has \", nncount, 'connections')\n",
    "        nnc[int(i)] = nncount\n",
    "        cindx[int(i)] = len(cons)\n",
    "        cons = np.concatenate([cons,daughters])\n",
    "    del nncount, daughters\n",
    "    #nnc=np.delete(nnc,0)\n",
    "    #cindx = np.delete(cindx,0)+1\n",
    "    print(nnc[:10])\n",
    "    print(cindx[:10])\n",
    "    print(cons[:10])\n",
    "    nnc=np.asnumpy(nnc)\n",
    "    cindx=np.asnumpy(cindx)\n",
    "    cons = np.asnumpy(cons)+1 # shift for fortran\n",
    "    nnc = numpy.delete(nnc,-1) # delete last element which was added as an extra in line 18\n",
    "    cindx = numpy.delete(cindx,-1)+1 # delete last element and add 1 to all elements for fortran indexing\n",
    "    numpy.savetxt(\"./1mil/nnc.txt\",(nnc))#, encoding='UTF-16')\n",
    "    numpy.savetxt(\"./1mil/cindx.txt\",(cindx))#, encoding='UTF-16')\n",
    "    numpy.savetxt(\"./1mil/cons.txt\",(cons))#, encoding='UTF-16')\n",
    "    \n",
    "    #return nnc, cindx, cons, nc, tc\n",
    "    pass"
   ]
  },
  {
   "cell_type": "code",
   "execution_count": 3,
   "metadata": {},
   "outputs": [],
   "source": [
    "mx = pandas.read_csv(\"./1mil/1mil.csv\", sep=',',dtype='int')"
   ]
  },
  {
   "cell_type": "code",
   "execution_count": 4,
   "metadata": {},
   "outputs": [
    {
     "data": {
      "text/plain": [
       "pandas.core.frame.DataFrame"
      ]
     },
     "execution_count": 4,
     "metadata": {},
     "output_type": "execute_result"
    }
   ],
   "source": [
    "type(mx)"
   ]
  },
  {
   "cell_type": "code",
   "execution_count": null,
   "metadata": {},
   "outputs": [],
   "source": [
    "mxs = nx.convert_matrix.from_pandas_adjacency(mx)"
   ]
  },
  {
   "cell_type": "code",
   "execution_count": null,
   "metadata": {},
   "outputs": [],
   "source": []
  }
 ],
 "metadata": {
  "kernelspec": {
   "display_name": "rapids-0.16",
   "language": "python",
   "name": "rapids-0.16"
  },
  "language_info": {
   "codemirror_mode": {
    "name": "ipython",
    "version": 3
   },
   "file_extension": ".py",
   "mimetype": "text/x-python",
   "name": "python",
   "nbconvert_exporter": "python",
   "pygments_lexer": "ipython3",
   "version": "3.7.8"
  }
 },
 "nbformat": 4,
 "nbformat_minor": 2
}
