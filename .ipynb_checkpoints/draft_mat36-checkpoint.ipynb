{
 "cells": [
  {
   "cell_type": "code",
   "execution_count": 2,
   "metadata": {},
   "outputs": [],
   "source": [
    "import matlab.engine\n",
    "import numpy as np\n",
    "import scipy\n",
    "import matplotlib.pyplot as plt"
   ]
  },
  {
   "cell_type": "code",
   "execution_count": 3,
   "metadata": {},
   "outputs": [],
   "source": [
    "eng = matlab.engine.start_matlab()"
   ]
  },
  {
   "cell_type": "code",
   "execution_count": 60,
   "metadata": {},
   "outputs": [],
   "source": [
    "T = float(1)\n",
    "n = float(2**13)\n",
    "\n",
    "a = eng.fbm1d(0.5,n,T)\n",
    "fbm = np.asarray([])\n",
    "for i in range(len(a)):\n",
    "    fbm = np.concatenate((fbm,np.asarray(a[i])))\n",
    "    \n"
   ]
  },
  {
   "cell_type": "code",
   "execution_count": 51,
   "metadata": {},
   "outputs": [],
   "source": [
    "def fbm(H,n,T):\n",
    "    \"\"\"\n",
    "    H - hurst index in float format\n",
    "    n - number of timesteps as multiple of 2 in float format\n",
    "    T - total time can keep 1?? float\n",
    "    \n",
    "    calls the matlab function from wikipedia\n",
    "    ensure import matlab.engine\n",
    "    Zdravko Botev (2020). Fractional Brownian motion generator \n",
    "    (https://www.mathworks.com/matlabcentral/fileexchange/38935-fractional-brownian-motion-generator)\n",
    "    Kroese, D. P., & Botev, Z. I. (2015). Spatial Process Simulation.\n",
    "    In Stochastic Geometry, Spatial Statistics and Random Fields(pp. 369-404)\n",
    "    Springer International Publishing, DOI: 10.1007/978-3-319-10064-7_12\n",
    "    \"\"\"\n",
    "    T = float(T)\n",
    "    n = float(n)\n",
    "    H = float(H)\n",
    "    \n",
    "    eng = matlab.engine.start_matlab()\n",
    "    a = eng.fbm1d(H,n,T)\n",
    "    fbm = np.asarray([])\n",
    "    for i in range(len(a)):\n",
    "        fbm = np.concatenate((fbm,np.asarray(a[i])))\n",
    "\n",
    "    #plt.plot(np.linspace(0,1,int(n+1)),fbm)\n",
    "    \n",
    "    return fbm"
   ]
  },
  {
   "cell_type": "code",
   "execution_count": 63,
   "metadata": {},
   "outputs": [
    {
     "data": {
      "text/plain": [
       "[<matplotlib.lines.Line2D at 0x7fc6be782780>]"
      ]
     },
     "execution_count": 63,
     "metadata": {},
     "output_type": "execute_result"
    },
    {
     "data": {
      "image/png": "[encoded data removed]",
      "text/plain": [
       "<Figure size 432x288 with 1 Axes>"
      ]
     },
     "metadata": {
      "needs_background": "light"
     },
     "output_type": "display_data"
    }
   ],
   "source": [
    "plt.plot(np.linspace(0,1,int(n+1)),fbm+300)"
   ]
  },
  {
   "cell_type": "code",
   "execution_count": null,
   "metadata": {},
   "outputs": [],
   "source": []
  }
 ],
 "metadata": {
  "kernelspec": {
   "display_name": "mat36",
   "language": "python",
   "name": "mat36"
  },
  "language_info": {
   "codemirror_mode": {
    "name": "ipython",
    "version": 3
   },
   "file_extension": ".py",
   "mimetype": "text/x-python",
   "name": "python",
   "nbconvert_exporter": "python",
   "pygments_lexer": "ipython3",
   "version": "3.6.10"
  }
 },
 "nbformat": 4,
 "nbformat_minor": 2
}
