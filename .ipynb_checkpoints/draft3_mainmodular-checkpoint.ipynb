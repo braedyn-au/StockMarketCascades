{
 "cells": [
  {
   "cell_type": "code",
   "execution_count": 1,
   "metadata": {},
   "outputs": [],
   "source": [
    "from library import portfolio, utils, broker_funcs, config\n",
    "import numpy as np\n",
    "import pandas as pd\n",
    "import matplotlib.pyplot as plt"
   ]
  },
  {
   "cell_type": "code",
   "execution_count": 2,
   "metadata": {},
   "outputs": [
    {
     "name": "stdout",
     "output_type": "stream",
     "text": [
      "ilftn\n",
      "0.1768411004069805\n",
      "dvquf\n",
      "0.17971874145032063\n",
      "afgen\n",
      "0.1384361594632062\n",
      "hspug\n",
      "0.20179981260869048\n",
      "lxqoh\n",
      "0.08500157850484372\n"
     ]
    }
   ],
   "source": [
    "traderIDs = portfolio.portfGen()"
   ]
  },
  {
   "cell_type": "code",
   "execution_count": 3,
   "metadata": {},
   "outputs": [
    {
     "name": "stdout",
     "output_type": "stream",
     "text": [
      "992\n"
     ]
    },
    {
     "name": "stderr",
     "output_type": "stream",
     "text": [
      "/home/braedyn/Documents/singapore/library/broker_funcs.py:135: FutureWarning: set_value is deprecated and will be removed in a future release. Please use .at[] or .iat[] accessors instead\n",
      "  broker.set_value(sID, 'order', 0)\n"
     ]
    },
    {
     "name": "stdout",
     "output_type": "stream",
     "text": [
      "993\n",
      "994\n",
      "995\n",
      "996\n",
      "997\n",
      "998\n",
      "999\n"
     ]
    }
   ],
   "source": [
    "transactions = pd.DataFrame()\n",
    "totalOrders = pd.DataFrame()\n",
    "broker = pd.DataFrame()\n",
    "\n",
    "for t in range(992,1000):\n",
    "    broker, totalOrders = broker_funcs.brokerage(traderIDs, t, broker, totalOrders)\n",
    "    broker, transactions = broker_funcs.instantMatch(traderIDs, broker, transactions)\n",
    "    print(t)"
   ]
  },
  {
   "cell_type": "code",
   "execution_count": 4,
   "metadata": {},
   "outputs": [
    {
     "data": {
      "image/png": "[encoded data removed]",
      "text/plain": [
       "<Figure size 432x288 with 1 Axes>"
      ]
     },
     "metadata": {
      "needs_background": "light"
     },
     "output_type": "display_data"
    }
   ],
   "source": [
    "totalOrders.sort_values(by=['time','portfolio'], inplace=True)\n",
    "totalOrders.reset_index(inplace=True,drop=True)\n",
    "totalOrders.hist(column='time',histtype='step',bins=7000)\n",
    "plt.title(\"Number of submitted orders\")\n",
    "plt.xlabel(\"time\")\n",
    "plt.ylabel(\"count\")\n",
    "plt.show()"
   ]
  },
  {
   "cell_type": "code",
   "execution_count": 6,
   "metadata": {},
   "outputs": [],
   "source": [
    "stockChars = utils.characterize(tmax=1000)"
   ]
  },
  {
   "cell_type": "code",
   "execution_count": 7,
   "metadata": {},
   "outputs": [
    {
     "data": {
      "text/html": [
       "<div>\n",
       "<style scoped>\n",
       "    .dataframe tbody tr th:only-of-type {\n",
       "        vertical-align: middle;\n",
       "    }\n",
       "\n",
       "    .dataframe tbody tr th {\n",
       "        vertical-align: top;\n",
       "    }\n",
       "\n",
       "    .dataframe thead th {\n",
       "        text-align: right;\n",
       "    }\n",
       "</style>\n",
       "<table border=\"1\" class=\"dataframe\">\n",
       "  <thead>\n",
       "    <tr style=\"text-align: right;\">\n",
       "      <th></th>\n",
       "      <th>time</th>\n",
       "      <th>stock</th>\n",
       "      <th>mean</th>\n",
       "      <th>var</th>\n",
       "      <th>std</th>\n",
       "    </tr>\n",
       "  </thead>\n",
       "  <tbody>\n",
       "    <tr>\n",
       "      <td>0</td>\n",
       "      <td>992</td>\n",
       "      <td>0</td>\n",
       "      <td>-0.011680</td>\n",
       "      <td>0.556273</td>\n",
       "      <td>0.745837</td>\n",
       "    </tr>\n",
       "    <tr>\n",
       "      <td>0</td>\n",
       "      <td>992</td>\n",
       "      <td>1</td>\n",
       "      <td>0.023572</td>\n",
       "      <td>0.087684</td>\n",
       "      <td>0.296115</td>\n",
       "    </tr>\n",
       "    <tr>\n",
       "      <td>0</td>\n",
       "      <td>992</td>\n",
       "      <td>2</td>\n",
       "      <td>0.054184</td>\n",
       "      <td>0.201897</td>\n",
       "      <td>0.449330</td>\n",
       "    </tr>\n",
       "    <tr>\n",
       "      <td>0</td>\n",
       "      <td>992</td>\n",
       "      <td>3</td>\n",
       "      <td>0.043668</td>\n",
       "      <td>0.206382</td>\n",
       "      <td>0.454293</td>\n",
       "    </tr>\n",
       "    <tr>\n",
       "      <td>0</td>\n",
       "      <td>992</td>\n",
       "      <td>4</td>\n",
       "      <td>0.006750</td>\n",
       "      <td>0.461710</td>\n",
       "      <td>0.679492</td>\n",
       "    </tr>\n",
       "    <tr>\n",
       "      <td>...</td>\n",
       "      <td>...</td>\n",
       "      <td>...</td>\n",
       "      <td>...</td>\n",
       "      <td>...</td>\n",
       "      <td>...</td>\n",
       "    </tr>\n",
       "    <tr>\n",
       "      <td>0</td>\n",
       "      <td>999</td>\n",
       "      <td>15</td>\n",
       "      <td>0.026446</td>\n",
       "      <td>0.377554</td>\n",
       "      <td>0.614454</td>\n",
       "    </tr>\n",
       "    <tr>\n",
       "      <td>0</td>\n",
       "      <td>999</td>\n",
       "      <td>16</td>\n",
       "      <td>0.007297</td>\n",
       "      <td>0.057832</td>\n",
       "      <td>0.240483</td>\n",
       "    </tr>\n",
       "    <tr>\n",
       "      <td>0</td>\n",
       "      <td>999</td>\n",
       "      <td>17</td>\n",
       "      <td>0.027076</td>\n",
       "      <td>0.478795</td>\n",
       "      <td>0.691950</td>\n",
       "    </tr>\n",
       "    <tr>\n",
       "      <td>0</td>\n",
       "      <td>999</td>\n",
       "      <td>18</td>\n",
       "      <td>-0.016780</td>\n",
       "      <td>0.054539</td>\n",
       "      <td>0.233535</td>\n",
       "    </tr>\n",
       "    <tr>\n",
       "      <td>0</td>\n",
       "      <td>999</td>\n",
       "      <td>19</td>\n",
       "      <td>0.056187</td>\n",
       "      <td>0.195783</td>\n",
       "      <td>0.442474</td>\n",
       "    </tr>\n",
       "  </tbody>\n",
       "</table>\n",
       "<p>160 rows × 5 columns</p>\n",
       "</div>"
      ],
      "text/plain": [
       "    time  stock      mean       var       std\n",
       "0    992      0 -0.011680  0.556273  0.745837\n",
       "0    992      1  0.023572  0.087684  0.296115\n",
       "0    992      2  0.054184  0.201897  0.449330\n",
       "0    992      3  0.043668  0.206382  0.454293\n",
       "0    992      4  0.006750  0.461710  0.679492\n",
       "..   ...    ...       ...       ...       ...\n",
       "0    999     15  0.026446  0.377554  0.614454\n",
       "0    999     16  0.007297  0.057832  0.240483\n",
       "0    999     17  0.027076  0.478795  0.691950\n",
       "0    999     18 -0.016780  0.054539  0.233535\n",
       "0    999     19  0.056187  0.195783  0.442474\n",
       "\n",
       "[160 rows x 5 columns]"
      ]
     },
     "execution_count": 7,
     "metadata": {},
     "output_type": "execute_result"
    }
   ],
   "source": [
    "stockChars"
   ]
  },
  {
   "cell_type": "code",
   "execution_count": null,
   "metadata": {},
   "outputs": [],
   "source": []
  }
 ],
 "metadata": {
  "kernelspec": {
   "display_name": "Python 3",
   "language": "python",
   "name": "python3"
  },
  "language_info": {
   "codemirror_mode": {
    "name": "ipython",
    "version": 3
   },
   "file_extension": ".py",
   "mimetype": "text/x-python",
   "name": "python",
   "nbconvert_exporter": "python",
   "pygments_lexer": "ipython3",
   "version": "3.7.4"
  }
 },
 "nbformat": 4,
 "nbformat_minor": 2
}
