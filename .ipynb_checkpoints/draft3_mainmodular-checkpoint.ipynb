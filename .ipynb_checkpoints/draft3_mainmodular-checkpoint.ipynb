{
 "cells": [
  {
   "cell_type": "code",
   "execution_count": 1,
   "metadata": {},
   "outputs": [],
   "source": [
    "from library import portfolio, utils, broker_funcs, config\n",
    "import numpy as np\n",
    "import pandas as pd\n",
    "import matplotlib.pyplot as plt"
   ]
  },
  {
   "cell_type": "code",
   "execution_count": 2,
   "metadata": {},
   "outputs": [
    {
     "name": "stdout",
     "output_type": "stream",
     "text": [
      "[ 0  1  2  3  4  5  6  7  8  9 10 11 12 13 14 15 16 17 18 19]\n",
      "lmhrk\n",
      "0.19409456152108895\n",
      "oiuwm\n",
      "overflow  26\n",
      "shuffled\n",
      "0.2258986068463558\n",
      "buetf\n",
      "0.14921171103505806\n",
      "kvpol\n",
      "overflow  27\n",
      "shuffled\n",
      "0.20426549310870318\n",
      "nkuxe\n",
      "0.21936806619414015\n",
      "992\n"
     ]
    },
    {
     "name": "stderr",
     "output_type": "stream",
     "text": [
      "/home/braedyn/Documents/singapore/library/broker_funcs.py:147: FutureWarning: set_value is deprecated and will be removed in a future release. Please use .at[] or .iat[] accessors instead\n",
      "  broker.set_value(sID, 'order', 0)\n"
     ]
    },
    {
     "name": "stdout",
     "output_type": "stream",
     "text": [
      "993\n",
      "994\n",
      "995\n",
      "996\n",
      "997\n",
      "998\n",
      "999\n"
     ]
    }
   ],
   "source": [
    "traderIDs = portfolio.portfGen()\n",
    "\n",
    "transactions = pd.DataFrame()\n",
    "totalOrders = pd.DataFrame()\n",
    "broker = pd.DataFrame()\n",
    "\n",
    "for t in range(992,1000):\n",
    "    broker, totalOrders = broker_funcs.brokerage(traderIDs, t, broker, totalOrders)\n",
    "    broker, transactions = broker_funcs.instantMatch(traderIDs, broker, transactions)\n",
    "    print(t)"
   ]
  },
  {
   "cell_type": "code",
   "execution_count": 3,
   "metadata": {},
   "outputs": [
    {
     "data": {
      "image/png": "[encoded data removed]",
      "text/plain": [
       "<Figure size 432x288 with 1 Axes>"
      ]
     },
     "metadata": {
      "needs_background": "light"
     },
     "output_type": "display_data"
    }
   ],
   "source": [
    "totalOrders.sort_values(by=['time','portfolio'], inplace=True)\n",
    "totalOrders.reset_index(inplace=True,drop=True)\n",
    "totalOrders.hist(column='time',histtype='step',bins=5000)\n",
    "plt.title(\"Number of submitted orders\")\n",
    "plt.xlabel(\"time\")\n",
    "plt.ylabel(\"count\")\n",
    "plt.show()"
   ]
  },
  {
   "cell_type": "code",
   "execution_count": 4,
   "metadata": {
    "scrolled": true
   },
   "outputs": [
    {
     "name": "stdout",
     "output_type": "stream",
     "text": [
      "0.19409456152108895\n",
      "reset!\n",
      "0.19498952566515226\n",
      "_____\n",
      "0.2258986068463558\n",
      "reset!\n",
      "0.23154568556002567\n",
      "_____\n",
      "0.14921171103505806\n",
      "reset!\n",
      "0.15297256647271187\n",
      "_____\n",
      "0.20426549310870318\n",
      "reset!\n",
      "0.20943990288165754\n",
      "_____\n",
      "0.21936806619414015\n",
      "reset!\n",
      "0.2266018742514614\n",
      "_____\n",
      "rebalance prob:  0.49977634947279304\n",
      "roll:  0.36145890307422246\n",
      "order sent\n",
      "rebalance prob:  0.4985882800952877\n",
      "roll:  0.27467436531158673\n",
      "order sent\n",
      "rebalance prob:  0.49905986819224724\n",
      "roll:  0.8594250805327123\n",
      "rebalance prob:  0.498706400443052\n",
      "roll:  0.11723499165765572\n",
      "order sent\n",
      "rebalance prob:  0.4981916117766735\n",
      "roll:  0.1265330663010883\n",
      "order sent\n",
      "992\n",
      "rebalance prob:  0.4996865046141385\n",
      "roll:  0.9906119751806357\n",
      "rebalance prob:  0.498763014756201\n",
      "roll:  0.5683885314590088\n",
      "rebalance prob:  0.4995967164577123\n",
      "roll:  0.17378904087915104\n",
      "order sent\n",
      "rebalance prob:  0.4986181548122712\n",
      "roll:  0.44144538179538484\n",
      "order sent\n",
      "rebalance prob:  0.4982556459914902\n",
      "roll:  0.4204443282008685\n",
      "order sent\n",
      "993\n",
      "rebalance prob:  0.49953196679027884\n",
      "roll:  0.5452625757032928\n",
      "rebalance prob:  0.49908650346326333\n",
      "roll:  0.9873636482833549\n",
      "rebalance prob:  0.49937040007031147\n",
      "roll:  0.44340512682931166\n",
      "order sent\n",
      "rebalance prob:  0.4989571899582847\n",
      "roll:  0.3417932311123255\n",
      "order sent\n",
      "rebalance prob:  0.4984435136545018\n",
      "roll:  0.26052947288118566\n",
      "order sent\n",
      "994\n",
      "rebalance prob:  0.5001491003569957\n",
      "roll:  0.059663011715120895\n",
      "order sent\n",
      "rebalance prob:  0.49983289490274907\n",
      "roll:  0.3200607462954308\n",
      "order sent\n",
      "rebalance prob:  0.4998141425180562\n",
      "roll:  0.30578156727368533\n",
      "order sent\n",
      "rebalance prob:  0.49979719507033266\n",
      "roll:  0.8108050513413543\n",
      "rebalance prob:  0.4993178983629044\n",
      "roll:  0.7340192493487518\n",
      "995\n",
      "rebalance prob:  0.4995652284983188\n",
      "roll:  0.5330629120371234\n",
      "rebalance prob:  0.4991651865681179\n",
      "roll:  0.40779513200875583\n",
      "order sent\n",
      "rebalance prob:  0.4998589373573857\n",
      "roll:  0.3177895811206264\n",
      "order sent\n",
      "rebalance prob:  0.4991428263070329\n",
      "roll:  0.40310811554131876\n",
      "order sent\n",
      "rebalance prob:  0.4987286568366205\n",
      "roll:  0.6046169465000657\n",
      "996\n",
      "rebalance prob:  0.4997588989082901\n",
      "roll:  0.7001416696937457\n",
      "rebalance prob:  0.4999455048887373\n",
      "roll:  0.40024470295890036\n",
      "order sent\n",
      "rebalance prob:  0.500094041763129\n",
      "roll:  0.11575103861715386\n",
      "order sent\n",
      "rebalance prob:  0.4997679590134351\n",
      "roll:  0.7935036892424506\n",
      "rebalance prob:  0.4997736972702103\n",
      "roll:  0.6047253456581849\n",
      "997\n",
      "rebalance prob:  0.49955429397669804\n",
      "roll:  0.7513593913529786\n",
      "rebalance prob:  0.49989454783482057\n",
      "roll:  0.507731412525453\n",
      "rebalance prob:  0.499805689966188\n",
      "roll:  0.0010835073645566462\n",
      "order sent\n",
      "rebalance prob:  0.4997805423539262\n",
      "roll:  0.7137923382916713\n",
      "rebalance prob:  0.4997203500436166\n",
      "roll:  0.29424743332823156\n",
      "order sent\n",
      "998\n",
      "rebalance prob:  0.4993576220180366\n",
      "roll:  0.9995303275485491\n",
      "rebalance prob:  0.5000363300742551\n",
      "roll:  0.6938295547320624\n",
      "rebalance prob:  0.4991389866458927\n",
      "roll:  0.21034220069494725\n",
      "order sent\n",
      "rebalance prob:  0.500135203290564\n",
      "roll:  0.529569378520868\n",
      "rebalance prob:  0.5001508684922498\n",
      "roll:  0.4955603826799557\n",
      "order sent\n",
      "999\n"
     ]
    }
   ],
   "source": [
    "Ttransactions = pd.DataFrame()\n",
    "TtotalOrders = pd.DataFrame()\n",
    "Tbroker = pd.DataFrame()\n",
    "\n",
    "for key,portf in traderIDs.items():\n",
    "    portf.reset(ptile=90)\n",
    "\n",
    "for t in range(992,1000):\n",
    "    Tbroker, TtotalOrders = broker_funcs.thresholdBrokerage(traderIDs, t, Tbroker, TtotalOrders)\n",
    "    Tbroker, Ttransactions = broker_funcs.instantMatch(traderIDs, Tbroker, Ttransactions)\n",
    "    print(t)"
   ]
  },
  {
   "cell_type": "code",
   "execution_count": 5,
   "metadata": {},
   "outputs": [],
   "source": [
    "#Ttransactions['ToS']"
   ]
  },
  {
   "cell_type": "code",
   "execution_count": 6,
   "metadata": {},
   "outputs": [
    {
     "data": {
      "image/png": "[encoded data removed]",
      "text/plain": [
       "<Figure size 432x288 with 1 Axes>"
      ]
     },
     "metadata": {
      "needs_background": "light"
     },
     "output_type": "display_data"
    }
   ],
   "source": [
    "TtotalOrders.sort_values(by=['time','portfolio'], inplace=True)\n",
    "TtotalOrders.reset_index(inplace=True,drop=True)\n",
    "TtotalOrders.hist(column='time',histtype='step',bins=5000)\n",
    "plt.title(\"Number of submitted orders\")\n",
    "plt.xlabel(\"time\")\n",
    "plt.ylabel(\"count\")\n",
    "plt.show()"
   ]
  },
  {
   "cell_type": "code",
   "execution_count": 7,
   "metadata": {},
   "outputs": [
    {
     "name": "stdout",
     "output_type": "stream",
     "text": [
      "[ 0  1  2  3  4  5  6  7  8  9 10 11 12 13 14]\n",
      "[11 12 13 14 15 16 17 18 19  0  1  2  3  4  5]\n",
      "[15 18 10 16 12  0  5  3  4  8  1  9 13]\n",
      "[ 1  9 13 11  7 17  2 19  6 14 15 18 10 16]\n",
      "[13 19  3 11 15  0  4 12  2  7  5 17  8 14 16]\n"
     ]
    }
   ],
   "source": [
    "for key,portf in traderIDs.items():\n",
    "    print(portf.stocks)"
   ]
  },
  {
   "cell_type": "code",
   "execution_count": 7,
   "metadata": {},
   "outputs": [],
   "source": [
    "# for name,portf in traderIDs.items():\n",
    "#     p90 = (np.percentile(portf.sharpe,50))\n",
    "#     p100 = (max(portf.sharpe))\n",
    "#     x0 = (p100+p90)/2\n",
    "#     probs = []\n",
    "#     print(x0)\n",
    "#     for i in portf.sharpe:\n",
    "#         p = (sigmoid(i,x0, k =1))\n",
    "#         probs.append(p)\n",
    "#     #print(probs)\n",
    "#     plt.plot(portf.sharpe,probs, 'o')\n",
    "#     plt.grid('on')\n",
    "#     plt.show()\n",
    "# # june 18, create a reset function in the portfolios to incorporate sharpe ratio threshold\n",
    "# # reset the sharpe ratio counter for the portfolios and update the order function"
   ]
  },
  {
   "cell_type": "code",
   "execution_count": 8,
   "metadata": {},
   "outputs": [],
   "source": [
    "stockChars = utils.characterize(tmax=1000)"
   ]
  },
  {
   "cell_type": "code",
   "execution_count": 9,
   "metadata": {},
   "outputs": [
    {
     "data": {
      "text/html": [
       "<div>\n",
       "<style scoped>\n",
       "    .dataframe tbody tr th:only-of-type {\n",
       "        vertical-align: middle;\n",
       "    }\n",
       "\n",
       "    .dataframe tbody tr th {\n",
       "        vertical-align: top;\n",
       "    }\n",
       "\n",
       "    .dataframe thead th {\n",
       "        text-align: right;\n",
       "    }\n",
       "</style>\n",
       "<table border=\"1\" class=\"dataframe\">\n",
       "  <thead>\n",
       "    <tr style=\"text-align: right;\">\n",
       "      <th></th>\n",
       "      <th>time</th>\n",
       "      <th>stock</th>\n",
       "      <th>mean</th>\n",
       "      <th>var</th>\n",
       "      <th>std</th>\n",
       "    </tr>\n",
       "  </thead>\n",
       "  <tbody>\n",
       "    <tr>\n",
       "      <td>0</td>\n",
       "      <td>992</td>\n",
       "      <td>0</td>\n",
       "      <td>-0.011680</td>\n",
       "      <td>0.556273</td>\n",
       "      <td>0.745837</td>\n",
       "    </tr>\n",
       "    <tr>\n",
       "      <td>0</td>\n",
       "      <td>992</td>\n",
       "      <td>1</td>\n",
       "      <td>0.023572</td>\n",
       "      <td>0.087684</td>\n",
       "      <td>0.296115</td>\n",
       "    </tr>\n",
       "    <tr>\n",
       "      <td>0</td>\n",
       "      <td>992</td>\n",
       "      <td>2</td>\n",
       "      <td>0.054184</td>\n",
       "      <td>0.201897</td>\n",
       "      <td>0.449330</td>\n",
       "    </tr>\n",
       "    <tr>\n",
       "      <td>0</td>\n",
       "      <td>992</td>\n",
       "      <td>3</td>\n",
       "      <td>0.043668</td>\n",
       "      <td>0.206382</td>\n",
       "      <td>0.454293</td>\n",
       "    </tr>\n",
       "    <tr>\n",
       "      <td>0</td>\n",
       "      <td>992</td>\n",
       "      <td>4</td>\n",
       "      <td>0.006750</td>\n",
       "      <td>0.461710</td>\n",
       "      <td>0.679492</td>\n",
       "    </tr>\n",
       "    <tr>\n",
       "      <td>...</td>\n",
       "      <td>...</td>\n",
       "      <td>...</td>\n",
       "      <td>...</td>\n",
       "      <td>...</td>\n",
       "      <td>...</td>\n",
       "    </tr>\n",
       "    <tr>\n",
       "      <td>0</td>\n",
       "      <td>999</td>\n",
       "      <td>15</td>\n",
       "      <td>0.026446</td>\n",
       "      <td>0.377554</td>\n",
       "      <td>0.614454</td>\n",
       "    </tr>\n",
       "    <tr>\n",
       "      <td>0</td>\n",
       "      <td>999</td>\n",
       "      <td>16</td>\n",
       "      <td>0.007297</td>\n",
       "      <td>0.057832</td>\n",
       "      <td>0.240483</td>\n",
       "    </tr>\n",
       "    <tr>\n",
       "      <td>0</td>\n",
       "      <td>999</td>\n",
       "      <td>17</td>\n",
       "      <td>0.027076</td>\n",
       "      <td>0.478795</td>\n",
       "      <td>0.691950</td>\n",
       "    </tr>\n",
       "    <tr>\n",
       "      <td>0</td>\n",
       "      <td>999</td>\n",
       "      <td>18</td>\n",
       "      <td>-0.016780</td>\n",
       "      <td>0.054539</td>\n",
       "      <td>0.233535</td>\n",
       "    </tr>\n",
       "    <tr>\n",
       "      <td>0</td>\n",
       "      <td>999</td>\n",
       "      <td>19</td>\n",
       "      <td>0.056187</td>\n",
       "      <td>0.195783</td>\n",
       "      <td>0.442474</td>\n",
       "    </tr>\n",
       "  </tbody>\n",
       "</table>\n",
       "<p>160 rows × 5 columns</p>\n",
       "</div>"
      ],
      "text/plain": [
       "    time  stock      mean       var       std\n",
       "0    992      0 -0.011680  0.556273  0.745837\n",
       "0    992      1  0.023572  0.087684  0.296115\n",
       "0    992      2  0.054184  0.201897  0.449330\n",
       "0    992      3  0.043668  0.206382  0.454293\n",
       "0    992      4  0.006750  0.461710  0.679492\n",
       "..   ...    ...       ...       ...       ...\n",
       "0    999     15  0.026446  0.377554  0.614454\n",
       "0    999     16  0.007297  0.057832  0.240483\n",
       "0    999     17  0.027076  0.478795  0.691950\n",
       "0    999     18 -0.016780  0.054539  0.233535\n",
       "0    999     19  0.056187  0.195783  0.442474\n",
       "\n",
       "[160 rows x 5 columns]"
      ]
     },
     "execution_count": 9,
     "metadata": {},
     "output_type": "execute_result"
    }
   ],
   "source": [
    "stockChars"
   ]
  },
  {
   "cell_type": "code",
   "execution_count": 10,
   "metadata": {},
   "outputs": [],
   "source": [
    "def sigmoid(x, x0, k = 1):\n",
    "    z = np.exp(-k*(x-x0))\n",
    "    p = 1/(1+z)\n",
    "    return p"
   ]
  },
  {
   "cell_type": "markdown",
   "metadata": {},
   "source": [
    "# Overlap portfolio\n",
    "might be better to just choose randomly so theres no disconnect in the selection.."
   ]
  },
  {
   "cell_type": "code",
   "execution_count": 11,
   "metadata": {
    "scrolled": true
   },
   "outputs": [
    {
     "name": "stdout",
     "output_type": "stream",
     "text": [
      "[ 0  1  2  3  4  5  6  7  8  9 10 11 12 13 14 15 16 17 18 19 20 21 22 23\n",
      " 24 25 26 27 28 29 30 31 32 33 34 35 36 37 38 39 40 41 42 43 44 45 46 47\n",
      " 48 49]\n",
      "vfbdn\n",
      "vgyni\n",
      "rjobi\n",
      "ucrvs\n",
      "uodxg\n",
      "czueb\n",
      "uwrid\n",
      "qbwnz\n",
      "pswcj\n",
      "cpzvl\n",
      "birsd\n",
      "omfct\n",
      "znxlt\n",
      "oavkt\n",
      "uxysc\n",
      "xkgyl\n",
      "coahb\n",
      "fskwe\n",
      "flawd\n",
      "overflow  53\n",
      "shuffled\n",
      "gvoku\n",
      "overflow  54\n",
      "shuffled\n",
      "ganlx\n",
      "overflow  56\n",
      "shuffled\n",
      "pfvdu\n",
      "overflow  59\n",
      "shuffled\n",
      "jreqv\n",
      "overflow  57\n",
      "shuffled\n",
      "kzngx\n",
      "overflow  62\n",
      "shuffled\n",
      "fqwux\n",
      "zsfby\n",
      "ijxaq\n",
      "zasxj\n",
      "giadk\n",
      "ildhu\n",
      "qcsgw\n",
      "bihpx\n",
      "gwdqc\n",
      "djwrm\n",
      "jrokh\n",
      "fnsxt\n",
      "eqywc\n",
      "gonip\n",
      "overflow  51\n",
      "shuffled\n",
      "hncgf\n",
      "overflow  56\n",
      "shuffled\n",
      "qhexr\n",
      "overflow  60\n",
      "shuffled\n",
      "hqdsf\n",
      "fkmws\n",
      "tikrz\n",
      "flsro\n",
      "rhjxe\n",
      "jtzfl\n",
      "uzojt\n",
      "edfmr\n",
      "bezla\n",
      "ahwql\n",
      "ptgcz\n",
      "blucx\n",
      "xqzkn\n",
      "gdvsq\n",
      "overflow  50\n",
      "shuffled\n",
      "wtsgq\n",
      "overflow  53\n",
      "shuffled\n",
      "minvk\n",
      "overflow  54\n",
      "shuffled\n",
      "ckdmz\n",
      "overflow  53\n",
      "shuffled\n",
      "wgkob\n",
      "overflow  55\n",
      "shuffled\n",
      "njwzq\n",
      "overflow  54\n",
      "shuffled\n",
      "bugso\n",
      "overflow  60\n",
      "shuffled\n",
      "nhesx\n",
      "overflow  63\n",
      "shuffled\n",
      "kjuzt\n",
      "lexng\n",
      "ltcak\n",
      "meghk\n",
      "ztdqa\n",
      "seqob\n",
      "hnpze\n",
      "vrezj\n",
      "spmaw\n",
      "oacib\n",
      "wmytv\n",
      "qoval\n",
      "overflow  51\n",
      "shuffled\n",
      "bnakv\n",
      "overflow  53\n",
      "shuffled\n",
      "vduqf\n",
      "overflow  54\n",
      "shuffled\n",
      "dszop\n",
      "overflow  55\n",
      "shuffled\n",
      "tahsq\n",
      "overflow  59\n",
      "shuffled\n",
      "newoi\n",
      "overflow  61\n",
      "shuffled\n",
      "jzfpc\n",
      "overflow  66\n",
      "shuffled\n",
      "mfhnz\n",
      "jceps\n",
      "djmkn\n",
      "xplwa\n",
      "cqhtk\n",
      "fskre\n",
      "lewat\n",
      "fhwub\n",
      "ntbcm\n",
      "rhidg\n",
      "gwbds\n",
      "qefkv\n",
      "udqpo\n",
      "overflow  52\n",
      "shuffled\n",
      "iualh\n",
      "overflow  52\n",
      "shuffled\n",
      "hdsom\n",
      "overflow  53\n",
      "shuffled\n",
      "guzsh\n",
      "overflow  59\n",
      "shuffled\n",
      "icosa\n",
      "overflow  62\n",
      "shuffled\n",
      "ozigm\n",
      "wohln\n",
      "olmpn\n",
      "acljz\n",
      "hxvua\n"
     ]
    }
   ],
   "source": [
    "import string \n",
    "import random \n",
    "def randString(length = 5):\n",
    "    letters = string.ascii_lowercase\n",
    "    return ''.join(random.sample(letters,length))\n",
    "\n",
    "tstocks = {}\n",
    "stocks = np.arange(50)\n",
    "window = 5\n",
    "indx = 0\n",
    "portfs=0\n",
    "print(stocks)\n",
    "while portfs <= 100:\n",
    "    startpos = indx % len(stocks)\n",
    "    window = np.random.randint(12,18)\n",
    "    name = randString()\n",
    "    print(name)\n",
    "    while name in traderIDs:\n",
    "        name = randString()\n",
    "#     print(startpos)\n",
    "#     print(stocks)\n",
    "#     print(startpos, \":\", startpos+window)\n",
    "    if startpos+window >= len(stocks):\n",
    "        print('overflow ', startpos+window)\n",
    "        stocks2 = np.concatenate([stocks,stocks])\n",
    "        tstocks[name] = np.copy(stocks2[startpos:startpos+window])\n",
    "        np.random.shuffle(stocks)\n",
    "        print(\"shuffled\")\n",
    "    else:\n",
    "        tstocks[name] = np.copy(stocks[startpos:startpos+window])\n",
    "    indx += window - np.random.randint(10,15)\n",
    "    portfs += 1\n",
    "    \n",
    "#     if indx >= len(stocks):\n",
    "#         print(portfs)\n"
   ]
  },
  {
   "cell_type": "code",
   "execution_count": 12,
   "metadata": {},
   "outputs": [],
   "source": [
    "#tstocks"
   ]
  },
  {
   "cell_type": "code",
   "execution_count": 13,
   "metadata": {},
   "outputs": [],
   "source": [
    "#(cosineSim(tstocks['iugey'],tstocks['fweup']))"
   ]
  },
  {
   "cell_type": "code",
   "execution_count": 14,
   "metadata": {},
   "outputs": [
    {
     "ename": "NameError",
     "evalue": "name 'cosineSim' is not defined",
     "output_type": "error",
     "traceback": [
      "\u001b[0;31m---------------------------------------------------------------------------\u001b[0m",
      "\u001b[0;31mNameError\u001b[0m                                 Traceback (most recent call last)",
      "\u001b[0;32m<ipython-input-14-62fb5d0ebf34>\u001b[0m in \u001b[0;36m<module>\u001b[0;34m\u001b[0m\n\u001b[1;32m      5\u001b[0m     \u001b[0;32mfor\u001b[0m \u001b[0mi\u001b[0m\u001b[0;34m,\u001b[0m \u001b[0mportf\u001b[0m \u001b[0;32min\u001b[0m \u001b[0mtstocks\u001b[0m\u001b[0;34m.\u001b[0m\u001b[0mitems\u001b[0m\u001b[0;34m(\u001b[0m\u001b[0;34m)\u001b[0m\u001b[0;34m:\u001b[0m\u001b[0;34m\u001b[0m\u001b[0;34m\u001b[0m\u001b[0m\n\u001b[1;32m      6\u001b[0m         \u001b[0;32mif\u001b[0m \u001b[0mi\u001b[0m\u001b[0;34m!=\u001b[0m\u001b[0mj\u001b[0m\u001b[0;34m:\u001b[0m\u001b[0;34m\u001b[0m\u001b[0;34m\u001b[0m\u001b[0m\n\u001b[0;32m----> 7\u001b[0;31m             \u001b[0mcc\u001b[0m \u001b[0;34m=\u001b[0m \u001b[0mcosineSim\u001b[0m\u001b[0;34m(\u001b[0m\u001b[0mpesbo\u001b[0m\u001b[0;34m,\u001b[0m\u001b[0mportf\u001b[0m\u001b[0;34m)\u001b[0m\u001b[0;34m\u001b[0m\u001b[0;34m\u001b[0m\u001b[0m\n\u001b[0m\u001b[1;32m      8\u001b[0m             \u001b[0mportf2s\u001b[0m \u001b[0;34m=\u001b[0m \u001b[0mnp\u001b[0m\u001b[0;34m.\u001b[0m\u001b[0mappend\u001b[0m\u001b[0;34m(\u001b[0m\u001b[0mportf2s\u001b[0m\u001b[0;34m,\u001b[0m\u001b[0mi\u001b[0m\u001b[0;34m)\u001b[0m\u001b[0;34m\u001b[0m\u001b[0;34m\u001b[0m\u001b[0m\n\u001b[1;32m      9\u001b[0m             \u001b[0mpesbocosines\u001b[0m \u001b[0;34m=\u001b[0m \u001b[0mnp\u001b[0m\u001b[0;34m.\u001b[0m\u001b[0mappend\u001b[0m\u001b[0;34m(\u001b[0m\u001b[0mpesbocosines\u001b[0m\u001b[0;34m,\u001b[0m\u001b[0mcc\u001b[0m\u001b[0;34m)\u001b[0m\u001b[0;34m\u001b[0m\u001b[0;34m\u001b[0m\u001b[0m\n",
      "\u001b[0;31mNameError\u001b[0m: name 'cosineSim' is not defined"
     ]
    }
   ],
   "source": [
    "pesbocosines = np.asarray([])\n",
    "#pesbo = tstocks['iugey']\n",
    "#portf2s = np.asarray([])\n",
    "for j, pesbo in tstocks.items():\n",
    "    for i, portf in tstocks.items():\n",
    "        if i!=j:\n",
    "            cc = cosineSim(pesbo,portf)\n",
    "            portf2s = np.append(portf2s,i)\n",
    "            pesbocosines = np.append(pesbocosines,cc)"
   ]
  },
  {
   "cell_type": "code",
   "execution_count": null,
   "metadata": {},
   "outputs": [],
   "source": [
    "(pesbocosines)"
   ]
  },
  {
   "cell_type": "code",
   "execution_count": null,
   "metadata": {},
   "outputs": [],
   "source": [
    "win10_15 = np.mean(pesbocosines)"
   ]
  },
  {
   "cell_type": "code",
   "execution_count": null,
   "metadata": {},
   "outputs": [],
   "source": [
    "portf2s[44]"
   ]
  },
  {
   "cell_type": "code",
   "execution_count": null,
   "metadata": {},
   "outputs": [],
   "source": [
    "def cosineSim(portf1, portf2): #change from .stocks array to actual object for both stocks and weights\n",
    "    overlapWeights = 0\n",
    "    for i in portf1:\n",
    "        if i in portf2: # find the weights in portf1 and portf2\n",
    "            overlapWeights += 1 # actual weight calculation\n",
    "    \n",
    "    portf1weights = np.ones(len(portf1))\n",
    "    portf2weights = np.ones(len(portf2))\n",
    "    portf1Norm = np.linalg.norm(portf1weights)\n",
    "    portf2Norm = np.linalg.norm(portf2weights)\n",
    "    \n",
    "    return overlapWeights/(portf1Norm*portf2Norm)\n",
    "    \n",
    "    "
   ]
  },
  {
   "cell_type": "code",
   "execution_count": null,
   "metadata": {},
   "outputs": [],
   "source": [
    "tstocks['zuxgj']"
   ]
  },
  {
   "cell_type": "code",
   "execution_count": null,
   "metadata": {},
   "outputs": [],
   "source": [
    "np.where(pesbocosines>0,0,1)"
   ]
  },
  {
   "cell_type": "code",
   "execution_count": null,
   "metadata": {},
   "outputs": [],
   "source": [
    "print(win4,win10,win10_15) "
   ]
  },
  {
   "cell_type": "code",
   "execution_count": null,
   "metadata": {},
   "outputs": [],
   "source": [
    "plt.hist(pesbocosines, bins=20)"
   ]
  },
  {
   "cell_type": "code",
   "execution_count": null,
   "metadata": {},
   "outputs": [],
   "source": [
    "stockPool"
   ]
  },
  {
   "cell_type": "code",
   "execution_count": null,
   "metadata": {},
   "outputs": [],
   "source": []
  }
 ],
 "metadata": {
  "kernelspec": {
   "display_name": "Python 3",
   "language": "python",
   "name": "python3"
  },
  "language_info": {
   "codemirror_mode": {
    "name": "ipython",
    "version": 3
   },
   "file_extension": ".py",
   "mimetype": "text/x-python",
   "name": "python",
   "nbconvert_exporter": "python",
   "pygments_lexer": "ipython3",
   "version": "3.7.4"
  }
 },
 "nbformat": 4,
 "nbformat_minor": 2
}
