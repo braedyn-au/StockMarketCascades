{
 "cells": [
  {
   "cell_type": "code",
   "execution_count": 1,
   "metadata": {},
   "outputs": [],
   "source": [
    "from library import portfolio, utils, broker_funcs, config\n",
    "import numpy as np\n",
    "import pandas as pd\n",
    "import matplotlib.pyplot as plt\n",
    "from fbm.fbm import fbm\n"
   ]
  },
  {
   "cell_type": "code",
   "execution_count": 2,
   "metadata": {},
   "outputs": [
    {
     "name": "stdout",
     "output_type": "stream",
     "text": [
      "[ 0  1  2  3  4  5  6  7  8  9 10 11 12 13 14 15 16 17 18 19]\n",
      "xjlti\n",
      "0.19017927650529515\n",
      "hmwac\n",
      "overflow  30\n",
      "shuffled\n",
      "0.1881771482414709\n",
      "wmfxu\n",
      "0.16914500282764927\n",
      "ifdov\n",
      "overflow  30\n",
      "shuffled\n",
      "0.18910384384743398\n",
      "oyapi\n",
      "overflow  23\n",
      "shuffled\n",
      "0.1442041221120872\n",
      "992\n",
      "stock  17  original H 0.6386381638110289  to  0.6286381638110289\n",
      "stock  18  original H 0.5663095777062566  to  0.5563095777062566\n",
      "stock  2  original H 0.644181996263354  to  0.634181996263354\n",
      "stock  17  original H 0.6286381638110289  to  0.6186381638110289\n",
      "stock  11  original H 0.6069145851189365  to  0.5969145851189365\n",
      "stock  2  original H 0.634181996263354  to  0.624181996263354\n",
      "stock  17  original H 0.6186381638110289  to  0.6086381638110289\n"
     ]
    },
    {
     "name": "stderr",
     "output_type": "stream",
     "text": [
      "/home/braedyn/Documents/singapore/library/broker_funcs.py:147: FutureWarning: set_value is deprecated and will be removed in a future release. Please use .at[] or .iat[] accessors instead\n",
      "  broker.set_value(sID, 'order', 0)\n"
     ]
    },
    {
     "name": "stdout",
     "output_type": "stream",
     "text": [
      "stock  0  original H 0.6417315656672514  to  0.6517315656672514\n",
      "stock  6  original H 0.5686443675830605  to  0.5786443675830605\n",
      "stock  8  original H 0.6090424929427908  to  0.6190424929427908\n",
      "stock  0  original H 0.6517315656672514  to  0.6617315656672514\n",
      "stock  6  original H 0.5786443675830605  to  0.5886443675830605\n",
      "stock  6  original H 0.5886443675830605  to  0.5986443675830605\n",
      "stock  8  original H 0.6190424929427908  to  0.6290424929427908\n",
      "993\n",
      "stock  18  original H 0.5563095777062566  to  0.5463095777062565\n",
      "stock  0  original H 0.6617315656672514  to  0.6517315656672514\n",
      "stock  2  original H 0.624181996263354  to  0.614181996263354\n",
      "stock  6  original H 0.5986443675830605  to  0.5886443675830605\n",
      "stock  5  original H 0.5609598735909112  to  0.5509598735909111\n",
      "stock  0  original H 0.6517315656672514  to  0.6417315656672514\n",
      "stock  0  original H 0.6417315656672514  to  0.6317315656672514\n",
      "stock  6  original H 0.5886443675830605  to  0.5786443675830605\n",
      "stock  18  original H 0.5463095777062565  to  0.5363095777062565\n",
      "stock  2  original H 0.614181996263354  to  0.604181996263354\n",
      "stock  11  original H 0.5969145851189365  to  0.5869145851189365\n",
      "stock  2  original H 0.604181996263354  to  0.594181996263354\n",
      "stock  6  original H 0.5786443675830605  to  0.5686443675830605\n",
      "stock  5  original H 0.5509598735909111  to  0.5609598735909112\n",
      "stock  11  original H 0.5869145851189365  to  0.5969145851189365\n",
      "stock  17  original H 0.6086381638110289  to  0.6186381638110289\n",
      "stock  8  original H 0.6290424929427908  to  0.6390424929427908\n",
      "stock  8  original H 0.6390424929427908  to  0.6490424929427908\n",
      "stock  17  original H 0.6186381638110289  to  0.6286381638110289\n",
      "stock  8  original H 0.6490424929427908  to  0.6590424929427908\n",
      "stock  17  original H 0.6286381638110289  to  0.6386381638110289\n",
      "994\n"
     ]
    }
   ],
   "source": [
    "traderIDs = portfolio.portfGen()\n",
    "\n",
    "transactions = pd.DataFrame()\n",
    "totalOrders = pd.DataFrame()\n",
    "broker = pd.DataFrame()\n",
    "\n",
    "for t in range(992,997):\n",
    "    broker, totalOrders = broker_funcs.brokerage(traderIDs, t, broker, totalOrders)\n",
    "    broker, transactions = broker_funcs.instantMatch(traderIDs, broker, transactions)\n",
    "    print(t)"
   ]
  },
  {
   "cell_type": "code",
   "execution_count": 12,
   "metadata": {
    "scrolled": true
   },
   "outputs": [
    {
     "name": "stdout",
     "output_type": "stream",
     "text": [
      "0.19017927650529515\n",
      "reset!\n",
      "0.19017927650529515\n",
      "_____\n",
      "0.1881771482414709\n",
      "reset!\n",
      "0.1881771482414709\n",
      "_____\n",
      "0.16914500282764927\n",
      "reset!\n",
      "0.16914500282764927\n",
      "_____\n",
      "0.18910384384743398\n",
      "reset!\n",
      "0.18910384384743398\n",
      "_____\n",
      "0.1442041221120872\n",
      "reset!\n",
      "0.1442041221120872\n",
      "_____\n"
     ]
    }
   ],
   "source": [
    "Ttransactions = pd.DataFrame()\n",
    "TtotalOrders = pd.DataFrame()\n",
    "Tbroker = pd.DataFrame()\n",
    "\n",
    "for key,portf in traderIDs.items():\n",
    "    portf.reset(ptile=70)\n",
    "\n",
    "# for t in range(992,1000):\n",
    "#     Tbroker, TtotalOrders = broker_funcs.thresholdBrokerage(traderIDs, t, Tbroker, TtotalOrders)\n",
    "#     Tbroker, Ttransactions = broker_funcs.instantMatch(traderIDs, Tbroker, Ttransactions)\n",
    "#     print(t)"
   ]
  },
  {
   "cell_type": "code",
   "execution_count": 4,
   "metadata": {},
   "outputs": [],
   "source": [
    "stockPool, hurstPool = portfolio.stockChars()"
   ]
  },
  {
   "cell_type": "code",
   "execution_count": 8,
   "metadata": {},
   "outputs": [
    {
     "data": {
      "image/png": "[encoded data removed]",
      "text/plain": [
       "<Figure size 432x288 with 1 Axes>"
      ]
     },
     "metadata": {
      "needs_background": "light"
     },
     "output_type": "display_data"
    }
   ],
   "source": [
    "#for i in range(1,np.shape(hurstPool)[0]):\n",
    "plt.plot(np.arange(550,1501),stockPool[2][550:1501])\n",
    "plt.show()"
   ]
  },
  {
   "cell_type": "code",
   "execution_count": 6,
   "metadata": {},
   "outputs": [
    {
     "data": {
      "image/png": "[encoded data removed]",
      "text/plain": [
       "<Figure size 432x288 with 1 Axes>"
      ]
     },
     "metadata": {
      "needs_background": "light"
     },
     "output_type": "display_data"
    }
   ],
   "source": [
    "totalOrders.sort_values(by=['time','portfolio'], inplace=True)\n",
    "totalOrders.reset_index(inplace=True,drop=True)\n",
    "totalOrders.hist(column='time',histtype='step',bins=5000)\n",
    "plt.title(\"Number of submitted orders\")\n",
    "plt.xlabel(\"time\")\n",
    "plt.ylabel(\"count\")\n",
    "plt.show()"
   ]
  },
  {
   "cell_type": "code",
   "execution_count": 7,
   "metadata": {},
   "outputs": [
    {
     "ename": "KeyError",
     "evalue": "'time'",
     "output_type": "error",
     "traceback": [
      "\u001b[0;31m---------------------------------------------------------------------------\u001b[0m",
      "\u001b[0;31mKeyError\u001b[0m                                  Traceback (most recent call last)",
      "\u001b[0;32m<ipython-input-7-f3980f581753>\u001b[0m in \u001b[0;36m<module>\u001b[0;34m\u001b[0m\n\u001b[0;32m----> 1\u001b[0;31m \u001b[0mTtotalOrders\u001b[0m\u001b[0;34m.\u001b[0m\u001b[0msort_values\u001b[0m\u001b[0;34m(\u001b[0m\u001b[0mby\u001b[0m\u001b[0;34m=\u001b[0m\u001b[0;34m[\u001b[0m\u001b[0;34m'time'\u001b[0m\u001b[0;34m,\u001b[0m\u001b[0;34m'portfolio'\u001b[0m\u001b[0;34m]\u001b[0m\u001b[0;34m,\u001b[0m \u001b[0minplace\u001b[0m\u001b[0;34m=\u001b[0m\u001b[0;32mTrue\u001b[0m\u001b[0;34m)\u001b[0m\u001b[0;34m\u001b[0m\u001b[0;34m\u001b[0m\u001b[0m\n\u001b[0m\u001b[1;32m      2\u001b[0m \u001b[0mTtotalOrders\u001b[0m\u001b[0;34m.\u001b[0m\u001b[0mreset_index\u001b[0m\u001b[0;34m(\u001b[0m\u001b[0minplace\u001b[0m\u001b[0;34m=\u001b[0m\u001b[0;32mTrue\u001b[0m\u001b[0;34m,\u001b[0m\u001b[0mdrop\u001b[0m\u001b[0;34m=\u001b[0m\u001b[0;32mTrue\u001b[0m\u001b[0;34m)\u001b[0m\u001b[0;34m\u001b[0m\u001b[0;34m\u001b[0m\u001b[0m\n\u001b[1;32m      3\u001b[0m \u001b[0mTtotalOrders\u001b[0m\u001b[0;34m.\u001b[0m\u001b[0mhist\u001b[0m\u001b[0;34m(\u001b[0m\u001b[0mcolumn\u001b[0m\u001b[0;34m=\u001b[0m\u001b[0;34m'time'\u001b[0m\u001b[0;34m,\u001b[0m\u001b[0mhisttype\u001b[0m\u001b[0;34m=\u001b[0m\u001b[0;34m'step'\u001b[0m\u001b[0;34m,\u001b[0m\u001b[0mbins\u001b[0m\u001b[0;34m=\u001b[0m\u001b[0;36m5000\u001b[0m\u001b[0;34m)\u001b[0m\u001b[0;34m\u001b[0m\u001b[0;34m\u001b[0m\u001b[0m\n\u001b[1;32m      4\u001b[0m \u001b[0mplt\u001b[0m\u001b[0;34m.\u001b[0m\u001b[0mtitle\u001b[0m\u001b[0;34m(\u001b[0m\u001b[0;34m\"Number of submitted orders\"\u001b[0m\u001b[0;34m)\u001b[0m\u001b[0;34m\u001b[0m\u001b[0;34m\u001b[0m\u001b[0m\n\u001b[1;32m      5\u001b[0m \u001b[0mplt\u001b[0m\u001b[0;34m.\u001b[0m\u001b[0mxlabel\u001b[0m\u001b[0;34m(\u001b[0m\u001b[0;34m\"time\"\u001b[0m\u001b[0;34m)\u001b[0m\u001b[0;34m\u001b[0m\u001b[0;34m\u001b[0m\u001b[0m\n",
      "\u001b[0;32m~/anaconda3/envs/mat36/lib/python3.6/site-packages/pandas/core/frame.py\u001b[0m in \u001b[0;36msort_values\u001b[0;34m(self, by, axis, ascending, inplace, kind, na_position)\u001b[0m\n\u001b[1;32m   4984\u001b[0m             \u001b[0;32mfrom\u001b[0m \u001b[0mpandas\u001b[0m\u001b[0;34m.\u001b[0m\u001b[0mcore\u001b[0m\u001b[0;34m.\u001b[0m\u001b[0msorting\u001b[0m \u001b[0;32mimport\u001b[0m \u001b[0mlexsort_indexer\u001b[0m\u001b[0;34m\u001b[0m\u001b[0;34m\u001b[0m\u001b[0m\n\u001b[1;32m   4985\u001b[0m \u001b[0;34m\u001b[0m\u001b[0m\n\u001b[0;32m-> 4986\u001b[0;31m             \u001b[0mkeys\u001b[0m \u001b[0;34m=\u001b[0m \u001b[0;34m[\u001b[0m\u001b[0mself\u001b[0m\u001b[0;34m.\u001b[0m\u001b[0m_get_label_or_level_values\u001b[0m\u001b[0;34m(\u001b[0m\u001b[0mx\u001b[0m\u001b[0;34m,\u001b[0m \u001b[0maxis\u001b[0m\u001b[0;34m=\u001b[0m\u001b[0maxis\u001b[0m\u001b[0;34m)\u001b[0m \u001b[0;32mfor\u001b[0m \u001b[0mx\u001b[0m \u001b[0;32min\u001b[0m \u001b[0mby\u001b[0m\u001b[0;34m]\u001b[0m\u001b[0;34m\u001b[0m\u001b[0;34m\u001b[0m\u001b[0m\n\u001b[0m\u001b[1;32m   4987\u001b[0m             \u001b[0mindexer\u001b[0m \u001b[0;34m=\u001b[0m \u001b[0mlexsort_indexer\u001b[0m\u001b[0;34m(\u001b[0m\u001b[0mkeys\u001b[0m\u001b[0;34m,\u001b[0m \u001b[0morders\u001b[0m\u001b[0;34m=\u001b[0m\u001b[0mascending\u001b[0m\u001b[0;34m,\u001b[0m \u001b[0mna_position\u001b[0m\u001b[0;34m=\u001b[0m\u001b[0mna_position\u001b[0m\u001b[0;34m)\u001b[0m\u001b[0;34m\u001b[0m\u001b[0;34m\u001b[0m\u001b[0m\n\u001b[1;32m   4988\u001b[0m             \u001b[0mindexer\u001b[0m \u001b[0;34m=\u001b[0m \u001b[0mensure_platform_int\u001b[0m\u001b[0;34m(\u001b[0m\u001b[0mindexer\u001b[0m\u001b[0;34m)\u001b[0m\u001b[0;34m\u001b[0m\u001b[0;34m\u001b[0m\u001b[0m\n",
      "\u001b[0;32m~/anaconda3/envs/mat36/lib/python3.6/site-packages/pandas/core/frame.py\u001b[0m in \u001b[0;36m<listcomp>\u001b[0;34m(.0)\u001b[0m\n\u001b[1;32m   4984\u001b[0m             \u001b[0;32mfrom\u001b[0m \u001b[0mpandas\u001b[0m\u001b[0;34m.\u001b[0m\u001b[0mcore\u001b[0m\u001b[0;34m.\u001b[0m\u001b[0msorting\u001b[0m \u001b[0;32mimport\u001b[0m \u001b[0mlexsort_indexer\u001b[0m\u001b[0;34m\u001b[0m\u001b[0;34m\u001b[0m\u001b[0m\n\u001b[1;32m   4985\u001b[0m \u001b[0;34m\u001b[0m\u001b[0m\n\u001b[0;32m-> 4986\u001b[0;31m             \u001b[0mkeys\u001b[0m \u001b[0;34m=\u001b[0m \u001b[0;34m[\u001b[0m\u001b[0mself\u001b[0m\u001b[0;34m.\u001b[0m\u001b[0m_get_label_or_level_values\u001b[0m\u001b[0;34m(\u001b[0m\u001b[0mx\u001b[0m\u001b[0;34m,\u001b[0m \u001b[0maxis\u001b[0m\u001b[0;34m=\u001b[0m\u001b[0maxis\u001b[0m\u001b[0;34m)\u001b[0m \u001b[0;32mfor\u001b[0m \u001b[0mx\u001b[0m \u001b[0;32min\u001b[0m \u001b[0mby\u001b[0m\u001b[0;34m]\u001b[0m\u001b[0;34m\u001b[0m\u001b[0;34m\u001b[0m\u001b[0m\n\u001b[0m\u001b[1;32m   4987\u001b[0m             \u001b[0mindexer\u001b[0m \u001b[0;34m=\u001b[0m \u001b[0mlexsort_indexer\u001b[0m\u001b[0;34m(\u001b[0m\u001b[0mkeys\u001b[0m\u001b[0;34m,\u001b[0m \u001b[0morders\u001b[0m\u001b[0;34m=\u001b[0m\u001b[0mascending\u001b[0m\u001b[0;34m,\u001b[0m \u001b[0mna_position\u001b[0m\u001b[0;34m=\u001b[0m\u001b[0mna_position\u001b[0m\u001b[0;34m)\u001b[0m\u001b[0;34m\u001b[0m\u001b[0;34m\u001b[0m\u001b[0m\n\u001b[1;32m   4988\u001b[0m             \u001b[0mindexer\u001b[0m \u001b[0;34m=\u001b[0m \u001b[0mensure_platform_int\u001b[0m\u001b[0;34m(\u001b[0m\u001b[0mindexer\u001b[0m\u001b[0;34m)\u001b[0m\u001b[0;34m\u001b[0m\u001b[0;34m\u001b[0m\u001b[0m\n",
      "\u001b[0;32m~/anaconda3/envs/mat36/lib/python3.6/site-packages/pandas/core/generic.py\u001b[0m in \u001b[0;36m_get_label_or_level_values\u001b[0;34m(self, key, axis)\u001b[0m\n\u001b[1;32m   1772\u001b[0m             \u001b[0mvalues\u001b[0m \u001b[0;34m=\u001b[0m \u001b[0mself\u001b[0m\u001b[0;34m.\u001b[0m\u001b[0maxes\u001b[0m\u001b[0;34m[\u001b[0m\u001b[0maxis\u001b[0m\u001b[0;34m]\u001b[0m\u001b[0;34m.\u001b[0m\u001b[0mget_level_values\u001b[0m\u001b[0;34m(\u001b[0m\u001b[0mkey\u001b[0m\u001b[0;34m)\u001b[0m\u001b[0;34m.\u001b[0m\u001b[0m_values\u001b[0m\u001b[0;34m\u001b[0m\u001b[0;34m\u001b[0m\u001b[0m\n\u001b[1;32m   1773\u001b[0m         \u001b[0;32melse\u001b[0m\u001b[0;34m:\u001b[0m\u001b[0;34m\u001b[0m\u001b[0;34m\u001b[0m\u001b[0m\n\u001b[0;32m-> 1774\u001b[0;31m             \u001b[0;32mraise\u001b[0m \u001b[0mKeyError\u001b[0m\u001b[0;34m(\u001b[0m\u001b[0mkey\u001b[0m\u001b[0;34m)\u001b[0m\u001b[0;34m\u001b[0m\u001b[0;34m\u001b[0m\u001b[0m\n\u001b[0m\u001b[1;32m   1775\u001b[0m \u001b[0;34m\u001b[0m\u001b[0m\n\u001b[1;32m   1776\u001b[0m         \u001b[0;31m# Check for duplicates\u001b[0m\u001b[0;34m\u001b[0m\u001b[0;34m\u001b[0m\u001b[0;34m\u001b[0m\u001b[0m\n",
      "\u001b[0;31mKeyError\u001b[0m: 'time'"
     ]
    }
   ],
   "source": [
    "TtotalOrders.sort_values(by=['time','portfolio'], inplace=True)\n",
    "TtotalOrders.reset_index(inplace=True,drop=True)\n",
    "TtotalOrders.hist(column='time',histtype='step',bins=5000)\n",
    "plt.title(\"Number of submitted orders\")\n",
    "plt.xlabel(\"time\")\n",
    "plt.ylabel(\"count\")\n",
    "plt.show()"
   ]
  },
  {
   "cell_type": "code",
   "execution_count": null,
   "metadata": {},
   "outputs": [],
   "source": [
    "for key,portf in traderIDs.items():\n",
    "    print(portf.stocks)"
   ]
  },
  {
   "cell_type": "code",
   "execution_count": null,
   "metadata": {},
   "outputs": [],
   "source": []
  },
  {
   "cell_type": "code",
   "execution_count": null,
   "metadata": {},
   "outputs": [],
   "source": [
    "# for name,portf in traderIDs.items():\n",
    "#     p90 = (np.percentile(portf.sharpe,50))\n",
    "#     p100 = (max(portf.sharpe))\n",
    "#     x0 = (p100+p90)/2\n",
    "#     probs = []\n",
    "#     print(x0)\n",
    "#     for i in portf.sharpe:\n",
    "#         p = (sigmoid(i,x0, k =1))\n",
    "#         probs.append(p)\n",
    "#     #print(probs)\n",
    "#     plt.plot(portf.sharpe,probs, 'o')\n",
    "#     plt.grid('on')\n",
    "#     plt.show()\n",
    "# # june 18, create a reset function in the portfolios to incorporate sharpe ratio threshold\n",
    "# # reset the sharpe ratio counter for the portfolios and update the order function"
   ]
  },
  {
   "cell_type": "code",
   "execution_count": null,
   "metadata": {},
   "outputs": [],
   "source": [
    "#stockChars = utils.characterize(stockPool,tmax=1000)"
   ]
  },
  {
   "cell_type": "markdown",
   "metadata": {},
   "source": [
    "# Overlap portfolio\n",
    "might be better to just choose randomly so theres no disconnect in the selection.."
   ]
  },
  {
   "cell_type": "code",
   "execution_count": null,
   "metadata": {
    "scrolled": true
   },
   "outputs": [],
   "source": [
    "# import string \n",
    "# import random \n",
    "# def randString(length = 5):\n",
    "#     letters = string.ascii_lowercase\n",
    "#     return ''.join(random.sample(letters,length))\n",
    "\n",
    "# tstocks = {}\n",
    "# stocks = np.arange(50)\n",
    "# window = 5\n",
    "# indx = 0\n",
    "# portfs=0\n",
    "# print(stocks)\n",
    "# while portfs <= 100:\n",
    "#     startpos = indx % len(stocks)\n",
    "#     window = np.random.randint(12,18)\n",
    "#     name = randString()\n",
    "#     print(name)\n",
    "#     while name in traderIDs:\n",
    "#         name = randString()\n",
    "# #     print(startpos)\n",
    "# #     print(stocks)\n",
    "# #     print(startpos, \":\", startpos+window)\n",
    "#     if startpos+window >= len(stocks):\n",
    "#         print('overflow ', startpos+window)\n",
    "#         stocks2 = np.concatenate([stocks,stocks])\n",
    "#         tstocks[name] = np.copy(stocks2[startpos:startpos+window])\n",
    "#         np.random.shuffle(stocks)\n",
    "#         print(\"shuffled\")\n",
    "#     else:\n",
    "#         tstocks[name] = np.copy(stocks[startpos:startpos+window])\n",
    "#     indx += window - np.random.randint(10,15)\n",
    "#     portfs += 1\n",
    "    \n",
    "# #     if indx >= len(stocks):\n",
    "# #         print(portfs)\n"
   ]
  },
  {
   "cell_type": "code",
   "execution_count": null,
   "metadata": {},
   "outputs": [],
   "source": [
    "#tstocks"
   ]
  },
  {
   "cell_type": "code",
   "execution_count": null,
   "metadata": {},
   "outputs": [],
   "source": [
    "#(cosineSim(tstocks['iugey'],tstocks['fweup']))"
   ]
  },
  {
   "cell_type": "code",
   "execution_count": null,
   "metadata": {},
   "outputs": [],
   "source": [
    "# pesbocosines = np.asarray([])\n",
    "# #pesbo = tstocks['iugey']\n",
    "# #portf2s = np.asarray([])\n",
    "# for j, pesbo in tstocks.items():\n",
    "#     for i, portf in tstocks.items():\n",
    "#         if i!=j:\n",
    "#             cc = cosineSim(pesbo,portf)\n",
    "#             portf2s = np.append(portf2s,i)\n",
    "#             pesbocosines = np.append(pesbocosines,cc)"
   ]
  },
  {
   "cell_type": "code",
   "execution_count": null,
   "metadata": {},
   "outputs": [],
   "source": [
    "# (pesbocosines)"
   ]
  },
  {
   "cell_type": "code",
   "execution_count": null,
   "metadata": {},
   "outputs": [],
   "source": [
    "# win10_15 = np.mean(pesbocosines)"
   ]
  },
  {
   "cell_type": "code",
   "execution_count": null,
   "metadata": {},
   "outputs": [],
   "source": [
    "# portf2s[44]"
   ]
  },
  {
   "cell_type": "code",
   "execution_count": null,
   "metadata": {},
   "outputs": [],
   "source": [
    "def cosineSim(portf1, portf2): #change from .stocks array to actual object for both stocks and weights\n",
    "    overlapWeights = 0\n",
    "    for i in portf1:\n",
    "        if i in portf2: # find the weights in portf1 and portf2\n",
    "            overlapWeights += 1 # actual weight calculation\n",
    "    \n",
    "    portf1weights = np.ones(len(portf1))\n",
    "    portf2weights = np.ones(len(portf2))\n",
    "    portf1Norm = np.linalg.norm(portf1weights)\n",
    "    portf2Norm = np.linalg.norm(portf2weights)\n",
    "    \n",
    "    return overlapWeights/(portf1Norm*portf2Norm)\n",
    "    \n",
    "    "
   ]
  },
  {
   "cell_type": "code",
   "execution_count": null,
   "metadata": {},
   "outputs": [],
   "source": []
  }
 ],
 "metadata": {
  "kernelspec": {
   "display_name": "mat36",
   "language": "python",
   "name": "mat36"
  },
  "language_info": {
   "codemirror_mode": {
    "name": "ipython",
    "version": 3
   },
   "file_extension": ".py",
   "mimetype": "text/x-python",
   "name": "python",
   "nbconvert_exporter": "python",
   "pygments_lexer": "ipython3",
   "version": "3.6.10"
  }
 },
 "nbformat": 4,
 "nbformat_minor": 2
}
