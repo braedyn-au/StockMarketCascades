{
 "cells": [
  {
   "cell_type": "code",
   "execution_count": 119,
   "metadata": {},
   "outputs": [],
   "source": [
    "import numpy as np\n",
    "from scipy.optimize import minimize\n",
    "import pandas as pd\n",
    "import random \n",
    "import string\n",
    "\n",
    "stockPool = np.loadtxt('./fbm/fbm20uni.txt')\n",
    "stockPool = stockPool[1:]"
   ]
  },
  {
   "cell_type": "code",
   "execution_count": 112,
   "metadata": {},
   "outputs": [],
   "source": [
    "def sharpe(alloc, stocks, vol, ti, tf):\n",
    "    \"\"\"\n",
    "    remake of sharpe calculation following \n",
    "    https://www.mlq.ai/python-for-finance-portfolio-optimization/#h1sjvcte25p1r8or1e1ngd82h2r8ha1\n",
    "    uses allocation percentage instead of weights\n",
    "    \"\"\"\n",
    "    Rp = 0\n",
    "    var = 0\n",
    "    Rf = 0.01\n",
    "    for i,j in enumerate(stocks): \n",
    "        stepReturn = 100*np.diff(stockPool[j][ti:tf])/stockPool[j][ti:tf-1]\n",
    "        Rp += alloc[i]*vol*np.mean(stepReturn)\n",
    "        var += alloc[i]*alloc[i]*vol*vol*np.var(stepReturn)\n",
    "    stdp = np.sqrt(var)\n",
    "    \n",
    "    print(Rp,stdp)\n",
    "    if stdp == 0:\n",
    "        print(\"dividebyzero\")\n",
    "    return -(Rp-Rf)/stdp"
   ]
  },
  {
   "cell_type": "code",
   "execution_count": 131,
   "metadata": {},
   "outputs": [],
   "source": [
    "class portfolio:\n",
    "    \n",
    "    def __init__(self,name,size,volume):\n",
    "        self.volume = volume\n",
    "        self.stocks = np.random.choice(np.arange(20), size=size, replace=False)\n",
    "        self.alloc = dict.fromkeys(self.stocks,1/size) #init with a sharpe function,\n",
    "        self.weights = dict.fromkeys(self.stocks,1) # put in dictionary for easy change\n",
    "        self.orders = np.zeros(size)\n",
    "        self.portfID = str(name)\n",
    "    \n",
    "    def optimize(self, t = 992,first=False):\n",
    "        \"\"\"\n",
    "        initialize weights based on datapoints before the 5 day week\n",
    "        \"\"\"\n",
    "        ti = t-900\n",
    "        \n",
    "        def check_sum(alloc):\n",
    "            return np.sum(alloc)-1\n",
    "        cons = ({'type':'eq','fun':check_sum})\n",
    "        \n",
    "        bounds = []\n",
    "        for i in range(len(self.stocks)):\n",
    "            bounds.append((0,1))\n",
    "        \n",
    "        opt= (minimize(sharpe, \n",
    "                      list(self.alloc.values()), \n",
    "                      args=(self.stocks,self.volume,ti,t), \n",
    "                      method='SLSQP', \n",
    "                      bounds=bounds,\n",
    "                      constraints=cons)['x'])\n",
    "        print(opt)\n",
    "        # update self.alloc\n",
    "        if first:\n",
    "            for i,j in enumerate(self.stocks):\n",
    "                self.weights[j] = (opt[i]*self.volume/stockPool[j][992])\n",
    "            print(-sharpe(list(self.alloc.values()),self.stocks,self.volume,ti,t))\n",
    "        else:\n",
    "            return opt\n",
    "        \n",
    "    def order(self, time):\n",
    "        \"\"\"\n",
    "        calls optimize to find opt weights\n",
    "        returns the orders to be added to the broker dataframe\n",
    "        immediately adjusts weights for sold stocks\n",
    "        \"\"\"\n",
    "        opt = optimize(t=time)\n",
    "        optweights = []\n",
    "        for i,j in enumerate(self.stocks):\n",
    "            optweights.append(round(opt[i]*self.volume/stockPool[j][time]))\n",
    "        \n",
    "        self.orders = np.asarray(optweights) - list(self.weights.values())\n",
    "        orderList = pd.DataFrame({'time':time, \"portfolio\":self.portfID,\"stock\":self.stocks, \"order\": self.orders})\n",
    "        \n",
    "        # update weights that have been sent off\n",
    "        i = 0\n",
    "        for stock,weight in self.weights.items():\n",
    "            if self.orders[i]<0:\n",
    "                self.weights[stock] = weight + self.orders[i]\n",
    "            i+=1\n",
    "        return orderList\n",
    "    \n",
    "    def buy(self,stock,volume):\n",
    "        \"\"\"\n",
    "        adjust recently bought stocks\n",
    "        \"\"\"\n",
    "        \n",
    "        print(self.weights)\n",
    "        self.weights[stock] = self.weights[stock] + volume\n",
    "        print(self.weights)\n",
    "        "
   ]
  },
  {
   "cell_type": "code",
   "execution_count": 28,
   "metadata": {},
   "outputs": [],
   "source": [
    "def portfGen(n=5):\n",
    "    traderIDs = {}\n",
    "    \n",
    "    def randString(length = 5):\n",
    "        letters = string.ascii_lowercase\n",
    "        return ''.join(random.sample(letters,length))\n",
    "    \n",
    "    for i in range(n):\n",
    "        name = randString()\n",
    "        print(name)\n",
    "        while name in traderIDs:\n",
    "            name = randString()\n",
    "\n",
    "        traderIDs[name] = portfolio(name,np.random.randint(8,12))\n",
    "        traderIDs[name].optimize(first=True)\n",
    "        \n",
    "    return traderIDs\n",
    "    \n",
    "    "
   ]
  },
  {
   "cell_type": "code",
   "execution_count": 132,
   "metadata": {},
   "outputs": [
    {
     "name": "stdout",
     "output_type": "stream",
     "text": [
      "-159.4480791142941 1750.4656406176575\n",
      "-159.4480791142941 1750.4656406176575\n",
      "-159.44807601622048 1750.4656735752394\n",
      "-159.44808361819705 1750.4656736231075\n",
      "-159.44807514683248 1750.465675097978\n",
      "-159.44808763665242 1750.4656789047003\n",
      "-159.44807881410958 1750.4656660385851\n",
      "-159.4480859428706 1750.4656619954021\n",
      "-159.4480809344811 1750.4656525402552\n",
      "-159.44808381268138 1750.4656518377678\n",
      "150.68619401611824 2962.461892596154\n",
      "150.68619401611824 2962.461892596154\n",
      "150.68619711419188 2962.46194395245\n",
      "150.68618951221532 2962.461898582673\n",
      "150.68619798357986 2962.461952624568\n",
      "150.68618549375992 2962.461892596156\n",
      "150.68619431630276 2962.46191615598\n",
      "150.68618718754175 2962.4618925961545\n",
      "150.68619219593123 2962.461896407651\n",
      "150.68618931773096 2962.4618925961545\n",
      "184.62241462157246 3232.542291924976\n",
      "184.62241462157246 3232.542291924976\n",
      "184.6224177196461 3232.542343607917\n",
      "184.62241011766955 3232.542291924977\n",
      "184.62241858903408 3232.542353447037\n",
      "184.62240609921417 3232.542291924977\n",
      "184.622414921757 3232.5423130723348\n",
      "184.62240779299597 3232.5422919249763\n",
      "184.62241280138542 3232.542293687012\n",
      "184.6224099231852 3232.542291924976\n",
      "201.17984072200218 3410.8533451313647\n",
      "201.17984072200218 3410.8533451313647\n",
      "201.1798438200758 3410.8533968842685\n",
      "201.17983621809927 3410.853345131366\n",
      "201.1798446894638 3410.853407956503\n",
      "201.17983219964387 3410.853345131366\n",
      "201.1798410221867 3410.8533632638737\n",
      "201.17983389342567 3410.853345131365\n",
      "201.17983890181517 3410.853345131365\n",
      "201.1798360236149 3410.853345131365\n",
      "205.76123005286829 3468.4926175735527\n",
      "205.76123005286829 3468.4926175735527\n",
      "205.7612331509419 3468.4926693275615\n",
      "205.76122554896534 3468.4926175735536\n",
      "205.7612340203299 3468.492681258802\n",
      "205.76122153050997 3468.4926175735536\n",
      "205.76123035305284 3468.492633336683\n",
      "205.7612232242918 3468.492617573553\n",
      "205.76122823268128 3468.492617573553\n",
      "205.761225354481 3468.492617573553\n",
      "222.9914333956297 3718.455244627855\n",
      "222.9914333956297 3718.455244627855\n",
      "222.99143649370336 3718.455296002239\n",
      "222.9914288917268 3718.4552446278562\n",
      "222.99143736309134 3718.4553106493163\n",
      "222.99142487327143 3718.4552446278562\n",
      "222.99143369581427 3718.455252062079\n",
      "222.99142656705322 3718.4552446278553\n",
      "222.9914315754427 3718.4552446278553\n",
      "222.99142869724244 3718.4552446278553\n",
      "227.02970358692113 3783.8514460310885\n",
      "227.02970358692113 3783.8514460310885\n",
      "227.02970668499472 3783.8514972954263\n",
      "227.0296990830182 3783.8514460310894\n",
      "227.02970755438275 3783.8515123845145\n",
      "227.02969506456284 3783.8514460310894\n",
      "227.02970388710565 3783.851451650858\n",
      "227.02969675834464 3783.851446031089\n",
      "227.02970176673412 3783.851446031089\n",
      "227.02969888853386 3783.851446031089\n",
      "228.20782173364492 3803.3561242957066\n",
      "228.20782173364492 3803.3561242957066\n",
      "228.20782483171854 3803.356175576008\n",
      "228.20781722974198 3803.3561242957076\n",
      "228.20782570110654 3803.356190694004\n",
      "228.20781321128663 3803.3561242957076\n",
      "228.20782203382944 3803.3561293876082\n",
      "228.20781490506843 3803.356124295707\n",
      "228.20781991345788 3803.356124295707\n",
      "228.20781703525765 3803.356124295707\n",
      "[4.22589456e-01 0.00000000e+00 5.23008905e-01 2.74303150e-17\n",
      " 5.44016393e-02 0.00000000e+00 1.58293517e-17 2.40692882e-17]\n",
      "-159.4480791142941 1750.4656406176575\n",
      "-0.0910946638507162\n",
      "{6: 4217.2713538579455, 2: 0.0, 12: 5217.991236213339, 19: 2.7612695393842915e-13, 10: 543.4273114534885, 0: 0.0, 16: 1.5844754236726983e-13, 4: 2.4134308978638313e-13}\n",
      "{6: 0.125, 2: 0.125, 12: 0.125, 19: 0.125, 10: 0.125, 0: 0.125, 16: 0.125, 4: 0.125}\n"
     ]
    }
   ],
   "source": [
    "a = portfolio('a',size=8,volume=1000000)\n",
    "a.optimize(first=True)\n",
    "print(a.weights)\n",
    "print(a.alloc)"
   ]
  },
  {
   "cell_type": "code",
   "execution_count": 78,
   "metadata": {},
   "outputs": [
    {
     "data": {
      "text/plain": [
       "{'aglxk': <__main__.portfolio at 0x10b032cc0>,\n",
       " 'soerv': <__main__.portfolio at 0x101dd92160>,\n",
       " 'jcouf': <__main__.portfolio at 0x10b032860>,\n",
       " 'osnzk': <__main__.portfolio at 0x10b032470>,\n",
       " 'ukaxy': <__main__.portfolio at 0x10b032208>}"
      ]
     },
     "execution_count": 78,
     "metadata": {},
     "output_type": "execute_result"
    }
   ],
   "source": [
    "traderIDs"
   ]
  },
  {
   "cell_type": "code",
   "execution_count": 71,
   "metadata": {},
   "outputs": [
    {
     "name": "stdout",
     "output_type": "stream",
     "text": [
      "0.05370220422659263\n"
     ]
    }
   ],
   "source": [
    "print(np.sqrt(np.var(stockPool[2][100:992])))"
   ]
  },
  {
   "cell_type": "code",
   "execution_count": 85,
   "metadata": {},
   "outputs": [],
   "source": [
    "aa = np.array([1,2,3,4,5])\n",
    "diff = np.diff(aa)"
   ]
  },
  {
   "cell_type": "code",
   "execution_count": 90,
   "metadata": {},
   "outputs": [
    {
     "data": {
      "text/plain": [
       "array([1.        , 0.5       , 0.33333333, 0.25      ])"
      ]
     },
     "execution_count": 90,
     "metadata": {},
     "output_type": "execute_result"
    }
   ],
   "source": [
    "diff/aa[:-1]"
   ]
  },
  {
   "cell_type": "code",
   "execution_count": 96,
   "metadata": {},
   "outputs": [
    {
     "name": "stdout",
     "output_type": "stream",
     "text": [
      "[(0, 1), (0, 1), (0, 1), (0, 1)]\n"
     ]
    }
   ],
   "source": [
    "\n",
    "bounds.append((0,1))\n",
    "print(bounds)"
   ]
  },
  {
   "cell_type": "code",
   "execution_count": 118,
   "metadata": {},
   "outputs": [
    {
     "data": {
      "text/plain": [
       "array([[6.94386706e-310, 6.94386706e-310, 4.66314288e-310, ...,\n",
       "        3.54373297e-312, 1.02269587e-309, 3.54373297e-312],\n",
       "       [9.99942619e+001, 1.00002281e+002, 1.00004643e+002, ...,\n",
       "        9.98941719e+001, 9.98920035e+001, 9.98885629e+001],\n",
       "       [9.99991074e+001, 9.99962664e+001, 9.99873592e+001, ...,\n",
       "        9.84290783e+001, 9.84306440e+001, 9.84180333e+001],\n",
       "       ...,\n",
       "       [1.00010631e+002, 1.00018276e+002, 1.00024996e+002, ...,\n",
       "        1.00440132e+002, 1.00439277e+002, 1.00434126e+002],\n",
       "       [1.00001473e+002, 1.00002452e+002, 1.00002844e+002, ...,\n",
       "        1.00171011e+002, 1.00174795e+002, 1.00168810e+002],\n",
       "       [1.00002735e+002, 1.00004578e+002, 1.00004845e+002, ...,\n",
       "        9.94064341e+001, 9.94088091e+001, 9.94137302e+001]])"
      ]
     },
     "execution_count": 118,
     "metadata": {},
     "output_type": "execute_result"
    }
   ],
   "source": []
  },
  {
   "cell_type": "code",
   "execution_count": null,
   "metadata": {},
   "outputs": [],
   "source": []
  }
 ],
 "metadata": {
  "kernelspec": {
   "display_name": "Python 3",
   "language": "python",
   "name": "python3"
  },
  "language_info": {
   "codemirror_mode": {
    "name": "ipython",
    "version": 3
   },
   "file_extension": ".py",
   "mimetype": "text/x-python",
   "name": "python",
   "nbconvert_exporter": "python",
   "pygments_lexer": "ipython3",
   "version": "3.7.3"
  }
 },
 "nbformat": 4,
 "nbformat_minor": 2
}
