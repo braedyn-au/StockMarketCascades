{
 "cells": [
  {
   "cell_type": "code",
   "execution_count": 1,
   "metadata": {},
   "outputs": [],
   "source": [
    "from library import portfolio, utils, broker_funcs, config\n",
    "import numpy as np\n",
    "import pandas as pd\n",
    "import matplotlib.pyplot as plt\n",
    "from fbm.fbm import fbm\n"
   ]
  },
  {
   "cell_type": "code",
   "execution_count": 2,
   "metadata": {},
   "outputs": [
    {
     "name": "stdout",
     "output_type": "stream",
     "text": [
      "[ 0  1  2  3  4  5  6  7  8  9 10 11 12 13 14 15 16 17 18 19]\n",
      "xzimj\n",
      "0.190184499432963\n",
      "ternw\n",
      "overflow  21\n",
      "shuffled\n",
      "0.1684834334138788\n",
      "strze\n",
      "overflow  32\n",
      "shuffled\n",
      "0.18750796830749272\n",
      "oekqy\n",
      "overflow  26\n",
      "shuffled\n",
      "0.16171212109514216\n",
      "akhtn\n",
      "0.20164979613999334\n",
      "992\n",
      "stock  2  original H 0.644181996263354  to  0.5441819962633541\n",
      "stock  5  original H 0.5609598735909112  to  0.4609598735909112\n",
      "stock  17  original H 0.6386381638110289  to  0.5386381638110289\n",
      "stock  12  original H 0.5624772344784695  to  0.46247723447846956\n",
      "stock  5  original H 0.4609598735909112  to  0.3609598735909112\n",
      "stock  11  original H 0.6069145851189365  to  0.5069145851189365\n",
      "stock  18  original H 0.5663095777062566  to  0.4663095777062566\n",
      "stock  0  original H 0.6417315656672514  to  0.7417315656672514\n"
     ]
    },
    {
     "name": "stderr",
     "output_type": "stream",
     "text": [
      "/home/braedyn/Documents/singapore/library/broker_funcs.py:147: FutureWarning: set_value is deprecated and will be removed in a future release. Please use .at[] or .iat[] accessors instead\n",
      "  broker.set_value(sID, 'order', 0)\n"
     ]
    },
    {
     "name": "stdout",
     "output_type": "stream",
     "text": [
      "stock  6  original H 0.5686443675830605  to  0.6686443675830605\n",
      "stock  8  original H 0.6090424929427908  to  0.7090424929427908\n",
      "stock  0  original H 0.7417315656672514  to  0.8\n",
      "stock  8  original H 0.7090424929427908  to  0.8\n",
      "stock  0  original H 0.8  to  0.8\n",
      "stock  0  original H 0.8  to  0.8\n",
      "993\n",
      "stock  0  original H 0.8  to  0.7000000000000001\n",
      "stock  2  original H 0.5441819962633541  to  0.4441819962633541\n",
      "stock  6  original H 0.6686443675830605  to  0.5686443675830605\n",
      "stock  11  original H 0.5069145851189365  to  0.4069145851189365\n",
      "stock  18  original H 0.4663095777062566  to  0.3663095777062566\n",
      "stock  0  original H 0.7000000000000001  to  0.6000000000000001\n",
      "stock  6  original H 0.5686443675830605  to  0.4686443675830605\n",
      "stock  0  original H 0.6000000000000001  to  0.5000000000000001\n",
      "stock  18  original H 0.3663095777062566  to  0.26630957770625663\n",
      "stock  2  original H 0.4441819962633541  to  0.3441819962633541\n",
      "stock  0  original H 0.5000000000000001  to  0.40000000000000013\n",
      "stock  5  original H 0.3609598735909112  to  0.4609598735909112\n",
      "stock  5  original H 0.4609598735909112  to  0.5609598735909112\n",
      "stock  12  original H 0.46247723447846956  to  0.5624772344784695\n",
      "stock  12  original H 0.5624772344784695  to  0.6624772344784695\n",
      "stock  12  original H 0.6624772344784695  to  0.7624772344784695\n",
      "stock  5  original H 0.5609598735909112  to  0.6609598735909111\n",
      "994\n",
      "stock  8  original H 0.8  to  0.7000000000000001\n",
      "stock  12  original H 0.7624772344784695  to  0.6624772344784695\n",
      "stock  12  original H 0.6624772344784695  to  0.5624772344784695\n",
      "stock  12  original H 0.5624772344784695  to  0.46247723447846956\n",
      "stock  8  original H 0.7000000000000001  to  0.6000000000000001\n",
      "stock  0  original H 0.40000000000000013  to  0.5000000000000001\n",
      "stock  0  original H 0.5000000000000001  to  0.6000000000000001\n",
      "stock  11  original H 0.4069145851189365  to  0.5069145851189365\n",
      "stock  5  original H 0.6609598735909111  to  0.7609598735909111\n",
      "stock  6  original H 0.4686443675830605  to  0.5686443675830605\n",
      "stock  18  original H 0.26630957770625663  to  0.3663095777062566\n",
      "stock  0  original H 0.6000000000000001  to  0.7000000000000001\n",
      "stock  17  original H 0.5386381638110289  to  0.6386381638110289\n",
      "stock  5  original H 0.7609598735909111  to  0.8\n",
      "stock  2  original H 0.3441819962633541  to  0.4441819962633541\n",
      "stock  18  original H 0.3663095777062566  to  0.4663095777062566\n",
      "stock  0  original H 0.7000000000000001  to  0.8\n",
      "995\n",
      "stock  0  original H 0.8  to  0.7000000000000001\n",
      "stock  18  original H 0.4663095777062566  to  0.3663095777062566\n",
      "stock  0  original H 0.7000000000000001  to  0.6000000000000001\n",
      "stock  11  original H 0.5069145851189365  to  0.4069145851189365\n",
      "stock  0  original H 0.6000000000000001  to  0.5000000000000001\n",
      "stock  18  original H 0.3663095777062566  to  0.26630957770625663\n",
      "stock  5  original H 0.8  to  0.8\n",
      "stock  6  original H 0.5686443675830605  to  0.6686443675830605\n",
      "stock  12  original H 0.46247723447846956  to  0.5624772344784695\n",
      "stock  11  original H 0.4069145851189365  to  0.5069145851189365\n",
      "stock  12  original H 0.5624772344784695  to  0.6624772344784695\n",
      "stock  17  original H 0.6386381638110289  to  0.7386381638110289\n",
      "stock  12  original H 0.6624772344784695  to  0.7624772344784695\n",
      "stock  6  original H 0.6686443675830605  to  0.7686443675830604\n",
      "stock  5  original H 0.8  to  0.8\n",
      "996\n",
      "stock  0  original H 0.5000000000000001  to  0.40000000000000013\n",
      "stock  2  original H 0.4441819962633541  to  0.3441819962633541\n",
      "stock  5  original H 0.8  to  0.7000000000000001\n",
      "stock  12  original H 0.7624772344784695  to  0.6624772344784695\n",
      "stock  0  original H 0.40000000000000013  to  0.30000000000000016\n",
      "stock  12  original H 0.6624772344784695  to  0.5624772344784695\n",
      "stock  5  original H 0.7000000000000001  to  0.6000000000000001\n",
      "stock  0  original H 0.30000000000000016  to  0.20000000000000015\n",
      "stock  6  original H 0.7686443675830604  to  0.8\n",
      "stock  8  original H 0.6000000000000001  to  0.7000000000000001\n",
      "stock  11  original H 0.5069145851189365  to  0.6069145851189365\n",
      "stock  11  original H 0.6069145851189365  to  0.7069145851189365\n",
      "stock  18  original H 0.26630957770625663  to  0.3663095777062566\n",
      "stock  8  original H 0.7000000000000001  to  0.8\n",
      "997\n"
     ]
    }
   ],
   "source": [
    "traderIDs = portfolio.portfGen()\n",
    "\n",
    "transactions = pd.DataFrame()\n",
    "totalOrders = pd.DataFrame()\n",
    "broker = pd.DataFrame()\n",
    "\n",
    "for t in range(992,998):\n",
    "    broker, totalOrders = broker_funcs.brokerage(traderIDs, t, broker, totalOrders)\n",
    "    broker, transactions = broker_funcs.instantMatch(traderIDs, broker, transactions)\n",
    "    print(t)"
   ]
  },
  {
   "cell_type": "code",
   "execution_count": 3,
   "metadata": {},
   "outputs": [],
   "source": [
    "stockPool, hurstPool = portfolio.stockChars()"
   ]
  },
  {
   "cell_type": "code",
   "execution_count": 7,
   "metadata": {},
   "outputs": [
    {
     "data": {
      "image/png": "[encoded data removed]",
      "text/plain": [
       "<Figure size 432x288 with 1 Axes>"
      ]
     },
     "metadata": {
      "needs_background": "light"
     },
     "output_type": "display_data"
    }
   ],
   "source": [
    "#for i in range(1,np.shape(hurstPool)[0]):\n",
    "plt.plot(np.arange(990,1011),hurstPool[5][990:1011])\n",
    "plt.show()"
   ]
  },
  {
   "cell_type": "code",
   "execution_count": 8,
   "metadata": {
    "scrolled": true
   },
   "outputs": [
    {
     "name": "stdout",
     "output_type": "stream",
     "text": [
      "0.190184499432963\n",
      "reset!\n",
      "threshold:  0.1949542820074326\n",
      "_____\n",
      "0.1684834334138788\n",
      "reset!\n",
      "threshold:  0.17167826310286852\n",
      "_____\n",
      "0.18750796830749272\n",
      "reset!\n",
      "threshold:  0.19319472587038683\n",
      "_____\n",
      "0.16171212109514216\n",
      "reset!\n",
      "threshold:  0.16289535167643843\n",
      "_____\n",
      "0.20164979613999334\n",
      "reset!\n",
      "threshold:  0.20533559193433704\n",
      "_____\n",
      "rebalance prob:  0.4988075566171377\n",
      "roll:  0.8260803278980035\n",
      "rebalance prob:  0.4992012932571149\n",
      "roll:  0.623670698596669\n",
      "rebalance prob:  0.4985783144406235\n",
      "roll:  0.05768794156372814\n",
      "order sent\n",
      "rebalance prob:  0.4997041923891877\n",
      "roll:  0.5807379537540376\n",
      "rebalance prob:  0.49907855209457663\n",
      "roll:  0.6833502991920114\n",
      "992\n",
      "rebalance prob:  0.49917046696466305\n",
      "roll:  0.7182835147871456\n",
      "rebalance prob:  0.49941895259274766\n",
      "roll:  0.7548904028318014\n",
      "rebalance prob:  0.4989503299413632\n",
      "roll:  0.6290340120389962\n",
      "rebalance prob:  0.4995210960709847\n",
      "roll:  0.2844891118023851\n",
      "order sent\n",
      "rebalance prob:  0.4992450333165485\n",
      "roll:  0.8419327456469368\n",
      "stock  5  original H 0.5609598735909112  to  0.6609598735909111\n",
      "993\n",
      "rebalance prob:  0.49925804140033886\n",
      "roll:  0.6526529411745663\n",
      "rebalance prob:  0.49953311597908917\n",
      "roll:  0.8977249119412144\n"
     ]
    },
    {
     "name": "stderr",
     "output_type": "stream",
     "text": [
      "/home/braedyn/Documents/singapore/library/broker_funcs.py:147: FutureWarning: set_value is deprecated and will be removed in a future release. Please use .at[] or .iat[] accessors instead\n",
      "  broker.set_value(sID, 'order', 0)\n"
     ]
    },
    {
     "name": "stdout",
     "output_type": "stream",
     "text": [
      "rebalance prob:  0.4990388033644652\n",
      "roll:  0.1642541633083967\n",
      "order sent\n",
      "stock  12  original H 0.5624772344784695  to  0.46247723447846956\n",
      "stock  6  original H 0.5686443675830605  to  0.4686443675830605\n",
      "stock  5  original H 0.6609598735909111  to  0.5609598735909112\n",
      "stock  11  original H 0.6069145851189365  to  0.5069145851189365\n",
      "stock  18  original H 0.5663095777062566  to  0.4663095777062566\n",
      "rebalance prob:  0.4994264371292085\n",
      "roll:  0.2672375019780955\n",
      "order sent\n",
      "rebalance prob:  0.4993125760833152\n",
      "roll:  0.4028981447171861\n",
      "order sent\n",
      "stock  2  original H 0.644181996263354  to  0.5441819962633541\n",
      "stock  8  original H 0.6090424929427908  to  0.7090424929427908\n",
      "stock  0  original H 0.6417315656672514  to  0.7417315656672514\n",
      "994\n",
      "rebalance prob:  0.4989516603193113\n",
      "roll:  0.8674605212219485\n",
      "rebalance prob:  0.49916715536991907\n",
      "roll:  0.5578885121488253\n",
      "rebalance prob:  0.4985828276830097\n",
      "roll:  0.8317112166154278\n",
      "rebalance prob:  0.49864361368575105\n",
      "roll:  0.1279874687253183\n",
      "order sent\n",
      "stock  6  original H 0.4686443675830605  to  0.3686443675830605\n",
      "rebalance prob:  0.49902175720473746\n",
      "roll:  0.26763208932692995\n",
      "order sent\n",
      "stock  11  original H 0.5069145851189365  to  0.4069145851189365\n",
      "stock  8  original H 0.7090424929427908  to  0.8\n",
      "995\n",
      "rebalance prob:  0.49885506437752014\n",
      "roll:  0.9080967636148017\n",
      "rebalance prob:  0.4989620418990962\n",
      "roll:  0.9621942699509715\n",
      "rebalance prob:  0.4986116831278769\n",
      "roll:  0.413354009181339\n",
      "order sent\n",
      "stock  12  original H 0.46247723447846956  to  0.3624772344784696\n",
      "stock  6  original H 0.3686443675830605  to  0.26864436758306054\n",
      "stock  18  original H 0.4663095777062566  to  0.3663095777062566\n",
      "rebalance prob:  0.4988901252329067\n",
      "roll:  0.7317806227584035\n",
      "rebalance prob:  0.49893289163799504\n",
      "roll:  0.034348584221484124\n",
      "order sent\n",
      "stock  5  original H 0.5609598735909112  to  0.6609598735909111\n",
      "stock  8  original H 0.8  to  0.8\n",
      "stock  0  original H 0.7417315656672514  to  0.8\n",
      "stock  11  original H 0.4069145851189365  to  0.5069145851189365\n",
      "996\n",
      "rebalance prob:  0.49925160098586113\n",
      "roll:  0.5643401526926214\n",
      "rebalance prob:  0.4995948559512652\n",
      "roll:  0.892089585332917\n",
      "rebalance prob:  0.4991366020876719\n",
      "roll:  0.990401987613822\n",
      "rebalance prob:  0.49910237336700347\n",
      "roll:  0.32366837834226814\n",
      "order sent\n",
      "rebalance prob:  0.49936782826057696\n",
      "roll:  0.4900775532671815\n",
      "order sent\n",
      "stock  0  original H 0.8  to  0.7000000000000001\n",
      "997\n",
      "rebalance prob:  0.5002777984588631\n",
      "roll:  0.7271975607629376\n",
      "rebalance prob:  0.5004613662653083\n",
      "roll:  0.11438650393469008\n",
      "order sent\n",
      "stock  12  original H 0.3624772344784696  to  0.2624772344784696\n",
      "stock  17  original H 0.6386381638110289  to  0.5386381638110289\n",
      "stock  18  original H 0.3663095777062566  to  0.26630957770625663\n",
      "rebalance prob:  0.500146932663466\n",
      "roll:  0.6788134762882966\n",
      "rebalance prob:  0.49958034869078954\n",
      "roll:  0.685719760331564\n",
      "rebalance prob:  0.5004006191862267\n",
      "roll:  0.37711220186887195\n",
      "order sent\n",
      "stock  11  original H 0.5069145851189365  to  0.6069145851189365\n",
      "stock  0  original H 0.7000000000000001  to  0.8\n",
      "stock  8  original H 0.8  to  0.8\n",
      "stock  0  original H 0.8  to  0.8\n",
      "998\n",
      "rebalance prob:  0.49960745997969946\n",
      "roll:  0.17452303115892487\n",
      "order sent\n",
      "stock  2  original H 0.5441819962633541  to  0.4441819962633541\n",
      "stock  6  original H 0.26864436758306054  to  0.2\n",
      "stock  11  original H 0.6069145851189365  to  0.5069145851189365\n",
      "stock  12  original H 0.2624772344784696  to  0.2\n",
      "rebalance prob:  0.5000287306256814\n",
      "roll:  0.6726552398176604\n",
      "rebalance prob:  0.4996513045470441\n",
      "roll:  0.34406547989921943\n",
      "order sent\n",
      "stock  5  original H 0.6609598735909111  to  0.5609598735909112\n",
      "stock  11  original H 0.5069145851189365  to  0.4069145851189365\n",
      "stock  0  original H 0.8  to  0.7000000000000001\n",
      "rebalance prob:  0.49908126223654564\n",
      "roll:  0.5831528057249014\n",
      "rebalance prob:  0.4998087407731205\n",
      "roll:  0.5694262371609555\n",
      "stock  0  original H 0.7000000000000001  to  0.8\n",
      "stock  8  original H 0.8  to  0.8\n",
      "stock  8  original H 0.8  to  0.8\n",
      "999\n"
     ]
    }
   ],
   "source": [
    "Ttransactions = pd.DataFrame()\n",
    "TtotalOrders = pd.DataFrame()\n",
    "Tbroker = pd.DataFrame()\n",
    "\n",
    "for key,portf in traderIDs.items():\n",
    "    portf.reset(ptile=70)\n",
    "\n",
    "for t in range(992,1000):\n",
    "    Tbroker, TtotalOrders = broker_funcs.thresholdBrokerage(traderIDs, t, Tbroker, TtotalOrders)\n",
    "    Tbroker, Ttransactions = broker_funcs.instantMatch(traderIDs, Tbroker, Ttransactions)\n",
    "    print(t)"
   ]
  },
  {
   "cell_type": "code",
   "execution_count": 11,
   "metadata": {},
   "outputs": [
    {
     "data": {
      "image/png": "[encoded data removed]",
      "text/plain": [
       "<Figure size 432x288 with 1 Axes>"
      ]
     },
     "metadata": {
      "needs_background": "light"
     },
     "output_type": "display_data"
    }
   ],
   "source": [
    "totalOrders.sort_values(by=['time','portfolio'], inplace=True)\n",
    "totalOrders.reset_index(inplace=True,drop=True)\n",
    "totalOrders.hist(column='time',histtype='step',bins=5)\n",
    "plt.title(\"Number of submitted orders\")\n",
    "plt.xlabel(\"time\")\n",
    "plt.ylabel(\"count\")\n",
    "plt.show()"
   ]
  },
  {
   "cell_type": "code",
   "execution_count": 12,
   "metadata": {},
   "outputs": [
    {
     "data": {
      "image/png": "[encoded data removed]",
      "text/plain": [
       "<Figure size 432x288 with 1 Axes>"
      ]
     },
     "metadata": {
      "needs_background": "light"
     },
     "output_type": "display_data"
    }
   ],
   "source": [
    "TtotalOrders.sort_values(by=['time','portfolio'], inplace=True)\n",
    "TtotalOrders.reset_index(inplace=True,drop=True)\n",
    "TtotalOrders.hist(column='time',histtype='step',bins=5)\n",
    "plt.title(\"Number of submitted orders\")\n",
    "plt.xlabel(\"time\")\n",
    "plt.ylabel(\"count\")\n",
    "plt.show()"
   ]
  },
  {
   "cell_type": "code",
   "execution_count": null,
   "metadata": {},
   "outputs": [],
   "source": [
    "for key,portf in traderIDs.items():\n",
    "    print(portf.stocks)"
   ]
  },
  {
   "cell_type": "code",
   "execution_count": null,
   "metadata": {},
   "outputs": [],
   "source": []
  },
  {
   "cell_type": "code",
   "execution_count": null,
   "metadata": {},
   "outputs": [],
   "source": [
    "# for name,portf in traderIDs.items():\n",
    "#     p90 = (np.percentile(portf.sharpe,50))\n",
    "#     p100 = (max(portf.sharpe))\n",
    "#     x0 = (p100+p90)/2\n",
    "#     probs = []\n",
    "#     print(x0)\n",
    "#     for i in portf.sharpe:\n",
    "#         p = (sigmoid(i,x0, k =1))\n",
    "#         probs.append(p)\n",
    "#     #print(probs)\n",
    "#     plt.plot(portf.sharpe,probs, 'o')\n",
    "#     plt.grid('on')\n",
    "#     plt.show()\n",
    "# # june 18, create a reset function in the portfolios to incorporate sharpe ratio threshold\n",
    "# # reset the sharpe ratio counter for the portfolios and update the order function"
   ]
  },
  {
   "cell_type": "code",
   "execution_count": null,
   "metadata": {},
   "outputs": [],
   "source": [
    "#stockChars = utils.characterize(stockPool,tmax=1000)"
   ]
  },
  {
   "cell_type": "markdown",
   "metadata": {},
   "source": [
    "# Overlap portfolio\n",
    "might be better to just choose randomly so theres no disconnect in the selection.."
   ]
  },
  {
   "cell_type": "code",
   "execution_count": null,
   "metadata": {
    "scrolled": true
   },
   "outputs": [],
   "source": [
    "# import string \n",
    "# import random \n",
    "# def randString(length = 5):\n",
    "#     letters = string.ascii_lowercase\n",
    "#     return ''.join(random.sample(letters,length))\n",
    "\n",
    "# tstocks = {}\n",
    "# stocks = np.arange(50)\n",
    "# window = 5\n",
    "# indx = 0\n",
    "# portfs=0\n",
    "# print(stocks)\n",
    "# while portfs <= 100:\n",
    "#     startpos = indx % len(stocks)\n",
    "#     window = np.random.randint(12,18)\n",
    "#     name = randString()\n",
    "#     print(name)\n",
    "#     while name in traderIDs:\n",
    "#         name = randString()\n",
    "# #     print(startpos)\n",
    "# #     print(stocks)\n",
    "# #     print(startpos, \":\", startpos+window)\n",
    "#     if startpos+window >= len(stocks):\n",
    "#         print('overflow ', startpos+window)\n",
    "#         stocks2 = np.concatenate([stocks,stocks])\n",
    "#         tstocks[name] = np.copy(stocks2[startpos:startpos+window])\n",
    "#         np.random.shuffle(stocks)\n",
    "#         print(\"shuffled\")\n",
    "#     else:\n",
    "#         tstocks[name] = np.copy(stocks[startpos:startpos+window])\n",
    "#     indx += window - np.random.randint(10,15)\n",
    "#     portfs += 1\n",
    "    \n",
    "# #     if indx >= len(stocks):\n",
    "# #         print(portfs)\n"
   ]
  },
  {
   "cell_type": "code",
   "execution_count": null,
   "metadata": {},
   "outputs": [],
   "source": [
    "#tstocks"
   ]
  },
  {
   "cell_type": "code",
   "execution_count": null,
   "metadata": {},
   "outputs": [],
   "source": [
    "#(cosineSim(tstocks['iugey'],tstocks['fweup']))"
   ]
  },
  {
   "cell_type": "code",
   "execution_count": null,
   "metadata": {},
   "outputs": [],
   "source": [
    "# pesbocosines = np.asarray([])\n",
    "# #pesbo = tstocks['iugey']\n",
    "# #portf2s = np.asarray([])\n",
    "# for j, pesbo in tstocks.items():\n",
    "#     for i, portf in tstocks.items():\n",
    "#         if i!=j:\n",
    "#             cc = cosineSim(pesbo,portf)\n",
    "#             portf2s = np.append(portf2s,i)\n",
    "#             pesbocosines = np.append(pesbocosines,cc)"
   ]
  },
  {
   "cell_type": "code",
   "execution_count": null,
   "metadata": {},
   "outputs": [],
   "source": [
    "# (pesbocosines)"
   ]
  },
  {
   "cell_type": "code",
   "execution_count": null,
   "metadata": {},
   "outputs": [],
   "source": [
    "# win10_15 = np.mean(pesbocosines)"
   ]
  },
  {
   "cell_type": "code",
   "execution_count": null,
   "metadata": {},
   "outputs": [],
   "source": [
    "# portf2s[44]"
   ]
  },
  {
   "cell_type": "code",
   "execution_count": null,
   "metadata": {},
   "outputs": [],
   "source": [
    "def cosineSim(portf1, portf2): #change from .stocks array to actual object for both stocks and weights\n",
    "    overlapWeights = 0\n",
    "    for i in portf1:\n",
    "        if i in portf2: # find the weights in portf1 and portf2\n",
    "            overlapWeights += 1 # actual weight calculation\n",
    "    \n",
    "    portf1weights = np.ones(len(portf1))\n",
    "    portf2weights = np.ones(len(portf2))\n",
    "    portf1Norm = np.linalg.norm(portf1weights)\n",
    "    portf2Norm = np.linalg.norm(portf2weights)\n",
    "    \n",
    "    return overlapWeights/(portf1Norm*portf2Norm)\n",
    "    \n",
    "    "
   ]
  },
  {
   "cell_type": "code",
   "execution_count": null,
   "metadata": {},
   "outputs": [],
   "source": []
  }
 ],
 "metadata": {
  "kernelspec": {
   "display_name": "mat36",
   "language": "python",
   "name": "mat36"
  },
  "language_info": {
   "codemirror_mode": {
    "name": "ipython",
    "version": 3
   },
   "file_extension": ".py",
   "mimetype": "text/x-python",
   "name": "python",
   "nbconvert_exporter": "python",
   "pygments_lexer": "ipython3",
   "version": "3.6.10"
  }
 },
 "nbformat": 4,
 "nbformat_minor": 2
}
